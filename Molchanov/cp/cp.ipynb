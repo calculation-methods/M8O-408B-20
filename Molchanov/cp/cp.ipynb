{
  "cells": [
    {
      "cell_type": "markdown",
      "source": [
        "#Вычисление несобственных интегралов численными методами.\n"
      ],
      "metadata": {
        "id": "qIkmEBpku4AH"
      }
    },
    {
      "cell_type": "code",
      "execution_count": null,
      "metadata": {
        "id": "PPmzYUrTd3P9"
      },
      "outputs": [],
      "source": [
        "import numpy as np"
      ]
    },
    {
      "cell_type": "code",
      "execution_count": null,
      "metadata": {
        "id": "HccACQOXd3QB"
      },
      "outputs": [],
      "source": [
        "x = var(\"x\")"
      ]
    },
    {
      "cell_type": "markdown",
      "metadata": {
        "id": "JKtlGLpud3QB"
      },
      "source": [
        "## Проблемы, возникающие при попытке применить классические методы численного интегрирования к несобственным интегралам"
      ]
    },
    {
      "cell_type": "markdown",
      "metadata": {
        "id": "KmvENTTtd3QD"
      },
      "source": [
        "#### Попадание сетки в точку вблизи бесконечности:"
      ]
    },
    {
      "cell_type": "code",
      "execution_count": null,
      "metadata": {
        "id": "QqiWgp5rd3QE",
        "outputId": "2fca225d-c321-4b22-e4bb-b00046fb8c75"
      },
      "outputs": [
        {
          "data": {
            "text/html": [
              "<html><script type=\"math/tex; mode=display\">\\newcommand{\\Bold}[1]{\\mathbf{#1}}\\frac{1}{\\sqrt{-x + 2}}</script></html>"
            ],
            "text/latex": [
              "\\begin{math}\n",
              "\\newcommand{\\Bold}[1]{\\mathbf{#1}}\\frac{1}{\\sqrt{-x + 2}}\n",
              "\\end{math}"
            ],
            "text/plain": [
              "1/sqrt(-x + 2)"
            ]
          },
          "metadata": {},
          "output_type": "display_data"
        },
        {
          "data": {
            "image/png": "[encoded data removed]",
            "text/plain": [
              "Graphics object consisting of 1 graphics primitive"
            ]
          },
          "metadata": {},
          "output_type": "display_data"
        },
        {
          "data": {
            "text/html": [
              "<html><script type=\"math/tex; mode=display\">\\newcommand{\\Bold}[1]{\\mathbf{#1}}\\verb|Аналитически|\\phantom{\\verb!x!}\\verb|выисленное|\\phantom{\\verb!x!}\\verb|значение|\\phantom{\\verb!x!}\\verb|интеграла:|\\phantom{\\verb!x!}\\verb|2.00000000000000|</script></html>"
            ],
            "text/latex": [
              "\\begin{math}\n",
              "\\newcommand{\\Bold}[1]{\\mathbf{#1}}\\verb|Аналитически|\\phantom{\\verb!x!}\\verb|выисленное|\\phantom{\\verb!x!}\\verb|значение|\\phantom{\\verb!x!}\\verb|интеграла:|\\phantom{\\verb!x!}\\verb|2.00000000000000|\n",
              "\\end{math}"
            ],
            "text/plain": [
              "'Аналитически выисленное значение интеграла: 2.00000000000000'"
            ]
          },
          "metadata": {},
          "output_type": "display_data"
        },
        {
          "data": {
            "text/html": [
              "<html><script type=\"math/tex; mode=display\">\\newcommand{\\Bold}[1]{\\mathbf{#1}}\\verb|Вычисленное|\\phantom{\\verb!x!}\\verb|немодифицированным|\\phantom{\\verb!x!}\\verb|методом|\\phantom{\\verb!x!}\\verb|трапеций|\\phantom{\\verb!x!}\\verb|значение:|\\phantom{\\verb!x!}\\verb|152.649243796903|</script></html>"
            ],
            "text/latex": [
              "\\begin{math}\n",
              "\\newcommand{\\Bold}[1]{\\mathbf{#1}}\\verb|Вычисленное|\\phantom{\\verb!x!}\\verb|немодифицированным|\\phantom{\\verb!x!}\\verb|методом|\\phantom{\\verb!x!}\\verb|трапеций|\\phantom{\\verb!x!}\\verb|значение:|\\phantom{\\verb!x!}\\verb|152.649243796903|\n",
              "\\end{math}"
            ],
            "text/plain": [
              "'Вычисленное немодифицированным методом трапеций значение: 152.649243796903'"
            ]
          },
          "metadata": {},
          "output_type": "display_data"
        }
      ],
      "source": [
        "func = 1/(sqrt(2-x))\n",
        "show(func)\n",
        "show(plot(func,xmin = 1,xmax = 2,ymax = 5))\n",
        "#интеграл,вычисленный непосредственно\n",
        "show(\"Аналитически выисленное значение интеграла: {}\".format(integral(func,x,1,2).n()))\n",
        "show(\"Вычисленное немодифицированным методом трапеций значение: {}\".format(integrate(func,1,2,0.0001,\"trap\",trace = True)))"
      ]
    },
    {
      "cell_type": "markdown",
      "metadata": {
        "id": "UOXU1iqEd3QF"
      },
      "source": [
        "Пытаемся интегрировать сетодом трапеций:"
      ]
    },
    {
      "cell_type": "code",
      "execution_count": null,
      "metadata": {
        "id": "YHNdjIVdd3QG",
        "outputId": "c69fd879-a81a-456d-803c-d74915aa0b67"
      },
      "outputs": [
        {
          "data": {
            "text/plain": [
              "152.649243796903"
            ]
          },
          "execution_count": 7,
          "metadata": {},
          "output_type": "execute_result"
        }
      ],
      "source": [
        "integrate(func,1,2,0.0001,\"trap\",trace = True)"
      ]
    },
    {
      "cell_type": "code",
      "execution_count": null,
      "metadata": {
        "id": "piVdANqzd3QG"
      },
      "outputs": [],
      "source": [
        "h = 0.001"
      ]
    },
    {
      "cell_type": "code",
      "execution_count": null,
      "metadata": {
        "id": "AKoehJrQd3QH",
        "outputId": "1cd80fa7-d36b-4b5b-d42b-8f3bb6ddbb31"
      },
      "outputs": [
        {
          "data": {
            "text/html": [
              "<html><script type=\"math/tex; mode=display\">\\newcommand{\\Bold}[1]{\\mathbf{#1}}\\verb|Метод|\\phantom{\\verb!x!}\\verb|прямоугольников|</script></html>"
            ],
            "text/latex": [
              "\\begin{math}\n",
              "\\newcommand{\\Bold}[1]{\\mathbf{#1}}\\verb|Метод|\\phantom{\\verb!x!}\\verb|прямоугольников|\n",
              "\\end{math}"
            ],
            "text/plain": [
              "'Метод прямоугольников'"
            ]
          },
          "metadata": {},
          "output_type": "display_data"
        },
        {
          "data": {
            "text/html": [
              "<html><script type=\"math/tex; mode=display\">\\newcommand{\\Bold}[1]{\\mathbf{#1}}\\begin{array}{l}\n",
              "\\verb|Результат:|\\phantom{\\verb!x!}\\verb|1508.59229291816|\\\\\n",
              "\\verb|\t|\\phantom{\\verb!x!}\\verb|Шаг|\\phantom{\\verb!x!}\\verb|интегрирования:|\\phantom{\\verb!x!}\\verb|0.0010|\\\\\n",
              "\\verb\"\t\"\\phantom{\\verb!x!}\\verb\"Ошибка\"\\phantom{\\verb!x!}\\verb\"(Рунге\"\\phantom{\\verb!x!}\\verb\"Ромберг\"\\phantom{\\verb!x!}\\verb\"|\"\\phantom{\\verb!x!}\\verb\"0.015):\"\\phantom{\\verb!x!}\\verb\"1521.81634083067\"\\\\\n",
              "\\verb|\t|\\phantom{\\verb!x!}\\verb|Ошибка|\\phantom{\\verb!x!}\\verb|(Истинная)|\\phantom{\\verb!x!}\\verb|1506.59229291816|\n",
              "\\end{array}</script></html>"
            ],
            "text/latex": [
              "\\begin{math}\n",
              "\\newcommand{\\Bold}[1]{\\mathbf{#1}}\\begin{array}{l}\n",
              "\\verb|Результат:|\\phantom{\\verb!x!}\\verb|1508.59229291816|\\\\\n",
              "\\verb|\t|\\phantom{\\verb!x!}\\verb|Шаг|\\phantom{\\verb!x!}\\verb|интегрирования:|\\phantom{\\verb!x!}\\verb|0.0010|\\\\\n",
              "\\verb\"\t\"\\phantom{\\verb!x!}\\verb\"Ошибка\"\\phantom{\\verb!x!}\\verb\"(Рунге\"\\phantom{\\verb!x!}\\verb\"Ромберг\"\\phantom{\\verb!x!}\\verb\"|\"\\phantom{\\verb!x!}\\verb\"0.015):\"\\phantom{\\verb!x!}\\verb\"1521.81634083067\"\\\\\n",
              "\\verb|\t|\\phantom{\\verb!x!}\\verb|Ошибка|\\phantom{\\verb!x!}\\verb|(Истинная)|\\phantom{\\verb!x!}\\verb|1506.59229291816|\n",
              "\\end{array}\n",
              "\\end{math}"
            ],
            "text/plain": [
              "'Результат: 1508.59229291816\\n\\t Шаг интегрирования: 0.0010\\n\\t Ошибка (Рунге Ромберг | 0.015): 1521.81634083067\\n\\t Ошибка (Истинная) 1506.59229291816'"
            ]
          },
          "metadata": {},
          "output_type": "display_data"
        }
      ],
      "source": [
        "show(\"Метод прямоугольников\")\n",
        "show(\"Результат: {}\\n\\t Шаг интегрирования: {}\\n\\t Ошибка (Рунге Ромберг | 0.015): {}\\n\\t Ошибка (Истинная) {}\".\n",
        "     format(integrate(func,X0,X1,h,\"trap\",trace = true),\n",
        "            h.n(digits = 2),\n",
        "            abs(runge_rumbert_error(func,X0,X1,h,0.01,\"trap\")),\n",
        "            abs(integrate(func,X0,X1,h,\"trap\") - integral(func,x,X0,X1).n(digits = 50))))"
      ]
    },
    {
      "cell_type": "markdown",
      "metadata": {
        "id": "B7xcGFfhd3QH"
      },
      "source": [
        "#### Попадание сетки в бесконечность"
      ]
    },
    {
      "cell_type": "code",
      "execution_count": null,
      "metadata": {
        "id": "eHUPe5aid3QI",
        "outputId": "a7f0e8ad-8426-4edf-b4de-03fd3890bbe7"
      },
      "outputs": [
        {
          "data": {
            "text/html": [
              "<html><script type=\"math/tex; mode=display\">\\newcommand{\\Bold}[1]{\\mathbf{#1}}\\frac{1}{\\sqrt{-x^{2} + 4 \\, x}}</script></html>"
            ],
            "text/latex": [
              "\\begin{math}\n",
              "\\newcommand{\\Bold}[1]{\\mathbf{#1}}\\frac{1}{\\sqrt{-x^{2} + 4 \\, x}}\n",
              "\\end{math}"
            ],
            "text/plain": [
              "1/sqrt(-x^2 + 4*x)"
            ]
          },
          "metadata": {},
          "output_type": "display_data"
        },
        {
          "data": {
            "image/png": "[encoded data removed]",
            "text/plain": [
              "Graphics object consisting of 1 graphics primitive"
            ]
          },
          "metadata": {},
          "output_type": "display_data"
        },
        {
          "data": {
            "text/html": [
              "<html><script type=\"math/tex; mode=display\">\\newcommand{\\Bold}[1]{\\mathbf{#1}}1.04719755119660</script></html>"
            ],
            "text/latex": [
              "\\begin{math}\n",
              "\\newcommand{\\Bold}[1]{\\mathbf{#1}}1.04719755119660\n",
              "\\end{math}"
            ],
            "text/plain": [
              "1.04719755119660"
            ]
          },
          "metadata": {},
          "output_type": "display_data"
        }
      ],
      "source": [
        "func = 1/(sqrt(-x**2+4*x))\n",
        "show(func)\n",
        "show(plot(func,xmin = 0,xmax = 1,ymax = 5))\n",
        "#интеграл,вычисленный непосредственно\n",
        "show(integral(func,x,0,1).n())"
      ]
    },
    {
      "cell_type": "markdown",
      "metadata": {
        "id": "B8dToEMMd3QI"
      },
      "source": [
        "#### Невозможность численно интегрировать до бесконечности"
      ]
    },
    {
      "cell_type": "code",
      "execution_count": null,
      "metadata": {
        "id": "O_fbzx8ld3QI",
        "outputId": "c1e62b2e-1735-409a-8f24-ca15ed036726"
      },
      "outputs": [
        {
          "data": {
            "text/html": [
              "<html><script type=\"math/tex; mode=display\">\\newcommand{\\Bold}[1]{\\mathbf{#1}}\\frac{1}{x^{2} + 1}</script></html>"
            ],
            "text/latex": [
              "\\begin{math}\n",
              "\\newcommand{\\Bold}[1]{\\mathbf{#1}}\\frac{1}{x^{2} + 1}\n",
              "\\end{math}"
            ],
            "text/plain": [
              "1/(x^2 + 1)"
            ]
          },
          "metadata": {},
          "output_type": "display_data"
        },
        {
          "data": {
            "text/plain": [
              "0.785398163397448"
            ]
          },
          "execution_count": 6,
          "metadata": {},
          "output_type": "execute_result"
        }
      ],
      "source": [
        "func = 1/(x**2 + 1)\n",
        "show(func)\n",
        "integral(func,x,1,infinity).n()"
      ]
    },
    {
      "cell_type": "markdown",
      "metadata": {
        "id": "P-dxoTlVd3QI"
      },
      "source": [
        "Непонятно, какое число брать в качестве правого предела интегрирования  \n",
        "Если взять слишком малый предел, точность не будет возрастать при сколь угодно большом увеличении мелкости сетки"
      ]
    },
    {
      "cell_type": "code",
      "execution_count": null,
      "metadata": {
        "id": "ArnmZbVLd3QI",
        "outputId": "4e3c39f0-9351-4fc8-998b-a204755b851a"
      },
      "outputs": [
        {
          "data": {
            "text/plain": [
              "0.685729490154680"
            ]
          },
          "execution_count": 7,
          "metadata": {},
          "output_type": "execute_result"
        }
      ],
      "source": [
        "integrate(func,1,10,0.001,\"rect\")"
      ]
    },
    {
      "cell_type": "markdown",
      "metadata": {
        "id": "GAPL9rvKd3QJ"
      },
      "source": [
        "Попытаемся оценить ошибку методом Рунге Ромберга"
      ]
    },
    {
      "cell_type": "code",
      "execution_count": null,
      "metadata": {
        "id": "6l7mrJ7Zd3QJ",
        "outputId": "9afcebf0-c225-49a5-dea9-646fce12b1bc"
      },
      "outputs": [
        {
          "data": {
            "text/html": [
              "<html><script type=\"math/tex; mode=display\">\\newcommand{\\Bold}[1]{\\mathbf{#1}}\\verb|f(x)|\\phantom{\\verb!x!}\\verb|=|</script></html>"
            ],
            "text/latex": [
              "\\begin{math}\n",
              "\\newcommand{\\Bold}[1]{\\mathbf{#1}}\\verb|f(x)|\\phantom{\\verb!x!}\\verb|=|\n",
              "\\end{math}"
            ],
            "text/plain": [
              "'f(x) ='"
            ]
          },
          "metadata": {},
          "output_type": "display_data"
        },
        {
          "data": {
            "text/html": [
              "<html><script type=\"math/tex; mode=display\">\\newcommand{\\Bold}[1]{\\mathbf{#1}}\\frac{1}{x^{2} + 1}</script></html>"
            ],
            "text/latex": [
              "\\begin{math}\n",
              "\\newcommand{\\Bold}[1]{\\mathbf{#1}}\\frac{1}{x^{2} + 1}\n",
              "\\end{math}"
            ],
            "text/plain": [
              "1/(x^2 + 1)"
            ]
          },
          "metadata": {},
          "output_type": "display_data"
        },
        {
          "data": {
            "text/html": [
              "<html><script type=\"math/tex; mode=display\">\\newcommand{\\Bold}[1]{\\mathbf{#1}}\\verb|Метод|\\phantom{\\verb!x!}\\verb|прямоугольников|</script></html>"
            ],
            "text/latex": [
              "\\begin{math}\n",
              "\\newcommand{\\Bold}[1]{\\mathbf{#1}}\\verb|Метод|\\phantom{\\verb!x!}\\verb|прямоугольников|\n",
              "\\end{math}"
            ],
            "text/plain": [
              "'Метод прямоугольников'"
            ]
          },
          "metadata": {},
          "output_type": "display_data"
        },
        {
          "data": {
            "image/png": "[encoded data removed]",
            "text/plain": [
              "Graphics object consisting of 361 graphics primitives"
            ]
          },
          "metadata": {},
          "output_type": "display_data"
        },
        {
          "data": {
            "text/html": [
              "<html><script type=\"math/tex; mode=display\">\\newcommand{\\Bold}[1]{\\mathbf{#1}}\\begin{array}{l}\n",
              "\\verb|Результат:|\\phantom{\\verb!x!}\\verb|0.685677631807072|\\\\\n",
              "\\verb|\t|\\phantom{\\verb!x!}\\verb|Шаг|\\phantom{\\verb!x!}\\verb|интегрирования:|\\phantom{\\verb!x!}\\verb|0.050|\\\\\n",
              "\\verb\"\t\"\\phantom{\\verb!x!}\\verb\"Ошибка\"\\phantom{\\verb!x!}\\verb\"(Рунге\"\\phantom{\\verb!x!}\\verb\"Ромберг\"\\phantom{\\verb!x!}\\verb\"|\"\\phantom{\\verb!x!}\\verb\"0.015):\"\\phantom{\\verb!x!}\\verb\"0.0000526572856806114\"\\\\\n",
              "\\verb|\t|\\phantom{\\verb!x!}\\verb|Ошибка|\\phantom{\\verb!x!}\\verb|(Истинная)|\\phantom{\\verb!x!}\\verb|0.0997205315903765|\n",
              "\\end{array}</script></html>"
            ],
            "text/latex": [
              "\\begin{math}\n",
              "\\newcommand{\\Bold}[1]{\\mathbf{#1}}\\begin{array}{l}\n",
              "\\verb|Результат:|\\phantom{\\verb!x!}\\verb|0.685677631807072|\\\\\n",
              "\\verb|\t|\\phantom{\\verb!x!}\\verb|Шаг|\\phantom{\\verb!x!}\\verb|интегрирования:|\\phantom{\\verb!x!}\\verb|0.050|\\\\\n",
              "\\verb\"\t\"\\phantom{\\verb!x!}\\verb\"Ошибка\"\\phantom{\\verb!x!}\\verb\"(Рунге\"\\phantom{\\verb!x!}\\verb\"Ромберг\"\\phantom{\\verb!x!}\\verb\"|\"\\phantom{\\verb!x!}\\verb\"0.015):\"\\phantom{\\verb!x!}\\verb\"0.0000526572856806114\"\\\\\n",
              "\\verb|\t|\\phantom{\\verb!x!}\\verb|Ошибка|\\phantom{\\verb!x!}\\verb|(Истинная)|\\phantom{\\verb!x!}\\verb|0.0997205315903765|\n",
              "\\end{array}\n",
              "\\end{math}"
            ],
            "text/plain": [
              "'Результат: 0.685677631807072\\n\\t Шаг интегрирования: 0.050\\n\\t Ошибка (Рунге Ромберг | 0.015): 0.0000526572856806114\\n\\t Ошибка (Истинная) 0.0997205315903765'"
            ]
          },
          "metadata": {},
          "output_type": "display_data"
        }
      ],
      "source": [
        "func = 1/(1+x**2)\n",
        "X0 = 1\n",
        "X1 = 10\n",
        "h = 0.05\n",
        "f = func\n",
        "show(\"f(x) =\")\n",
        "show((f(x)))\n",
        "\n",
        "show(\"Метод прямоугольников\")\n",
        "show(\"Результат: {}\\n\\t Шаг интегрирования: {}\\n\\t Ошибка (Рунге Ромберг | 0.015): {}\\n\\t Ошибка (Истинная) {}\".\n",
        "     format(integrate(func,X0,X1,h,\"rect\",trace = true),\n",
        "            h.n(digits = 2),\n",
        "            abs(runge_rumbert_error(func,X0,X1,h,0.015,\"rect\")),\n",
        "            abs(integrate(func,X0,X1,h,\"rect\") - integral(func,x,X0,infinity).n(digits = 50))))"
      ]
    },
    {
      "cell_type": "markdown",
      "metadata": {
        "id": "U1qLHJE8d3QJ"
      },
      "source": [
        "Видим, что ошибка, определяемая методом Рунге Ромберга сильно меньше истинной"
      ]
    },
    {
      "cell_type": "markdown",
      "metadata": {
        "id": "_kF1nkkad3QJ"
      },
      "source": [
        "Справедливости ради, стоит отметить, что в большинстве случаев классические квадратурные методы дают неплохую точность и для несобственных интегралов, однако их непредсказуемое поведение в определенных ситуациях не позволяет говорить об их применимости в решении задачи вычисления несобственных интегралов"
      ]
    },
    {
      "cell_type": "code",
      "execution_count": null,
      "metadata": {
        "id": "m5O46Xdpd3QJ"
      },
      "outputs": [],
      "source": [
        "def runge_romberg_error_h(r1,r2,k,a): #счет ошибки методом Рунге-Ромберга\n",
        "\n",
        "    err = (r1 - r2)/(k**a - 1)\n",
        "\n",
        "    return err\n",
        "\n",
        "def runge_romberg_error(f,xmin,xmax,h,k,method): #счет ошибки методом Рунге-Ромберга\n",
        "    r1 = integrate(f,X0,X1,h,method)\n",
        "    r2 = integrate(f,X0,X1,h*k,method)\n",
        "\n",
        "    a = 1\n",
        "    if method == \"simpson\":\n",
        "        a = 2\n",
        "\n",
        "    err = (r1 - r2)/(k**a - 1)\n",
        "\n",
        "    return err\n",
        "\n",
        "def plot_sq_int(pts):\n",
        "    if(len(pts) != 3):\n",
        "        return false\n",
        "    a = var(\"a0,a1,a2\")\n",
        "    fx = a[0]*x**2 + a[1]*x**1 + a[2]\n",
        "    sols = solve([fx(x = pts[0][0]) == pts[0][1], fx(x = pts[1][0]) == pts[1][1],fx(x = pts[2][0]) == pts[2][1]],a)\n",
        "    A = []\n",
        "    for k in sols[0]:\n",
        "        A.append(k.rhs())\n",
        "    func = A[0]*x**2 + A[1]*x + A[2]\n",
        "    return plot(func(x = x),xmin = pts[0][0],xmax = pts[2][0],color = \"red\")\n",
        "\n",
        "\n",
        "def integrate(func,xmin,xmax,h,method,trace = false, eps = 1e-5):\n",
        "    if(h <= 0): #чтоб не упал в бесконечный цикл\n",
        "        return false\n",
        "\n",
        "    step = h\n",
        "    xcur = xmin\n",
        "    res = 0\n",
        "\n",
        "    traceplt = 0\n",
        "\n",
        "    if(h < 0.01):#если шаг очень мал, то трэйсить не надо\n",
        "        trace = False\n",
        "\n",
        "    if(trace):\n",
        "        traceplt = plot(func,xmin = xmin, xmax = xmax)\n",
        "\n",
        "\n",
        "\n",
        "    if(method == \"simpson\"):\n",
        "        while (xcur + 2*step <= xmax + eps):\n",
        "            if(trace):\n",
        "                fi1 = func(x = xcur)\n",
        "                fi2 = func(x = xcur + step)\n",
        "                fi3 = func(x = xcur + 2*step)\n",
        "\n",
        "                traceplt += line([(xcur,0),(xcur,fi1)],color = \"red\")\n",
        "                traceplt += line([(xcur + step,0),(xcur + step,fi2)],color = \"red\")\n",
        "                traceplt += line([(xcur + 2*step,0),(xcur + 2*step,fi3)],color = \"red\")\n",
        "\n",
        "                traceplt += plot_sq_int([(xcur,fi1),(xcur + step,fi2),(xcur + 2*step,fi3)])\n",
        "            res += func(x = xcur) + 4*func(x = xcur + step) + func(x = xcur + 2*step)\n",
        "            xcur += step*2\n",
        "        res *= step/3\n",
        "    else:\n",
        "        if(method == \"trap\"):\n",
        "            while (xcur + step <= xmax + eps):\n",
        "                if(trace):\n",
        "                    fi1 = func(x = xcur)\n",
        "                    fi2 = func(x = xcur + step)\n",
        "                    traceplt += line([(xcur,0),(xcur,fi1)],color = \"red\")\n",
        "                    traceplt += line([(xcur + step,0),(xcur + step,fi2)],color = \"red\")\n",
        "                    traceplt += line([(xcur, fi1),(xcur + step, fi2)],color = \"red\")\n",
        "\n",
        "                res += func(x = xcur) + func(x = xcur + step)\n",
        "                xcur += step\n",
        "            res *= step/2\n",
        "        else:\n",
        "            if(method == \"rect\"):\n",
        "                while (xcur + step <= xmax + eps):\n",
        "                    if(trace):\n",
        "                        fi = func(x = xcur + step/2)\n",
        "                        traceplt += line([(xcur + step/2,0),(xcur + step/2,fi)],color = \"red\")\n",
        "                        traceplt += line([(xcur, fi),(xcur + step, fi)],color = \"red\")\n",
        "\n",
        "                    res += func(x = xcur + step/2)\n",
        "                    xcur += step\n",
        "                res*=step\n",
        "            else:\n",
        "                print(\"ERROR: wrong method\")\n",
        "                return false\n",
        "    if(trace):\n",
        "        show(traceplt)\n",
        "    return res.n()"
      ]
    },
    {
      "cell_type": "markdown",
      "metadata": {
        "id": "dO2k7enyd3QJ"
      },
      "source": [
        "# Несобственные интегралы второго рода"
      ]
    },
    {
      "cell_type": "markdown",
      "metadata": {
        "id": "kCtWW6UCd3QJ"
      },
      "source": [
        "### Метод выделения особой точки"
      ]
    },
    {
      "cell_type": "markdown",
      "metadata": {
        "id": "4zfO4Hl0d3QJ"
      },
      "source": [
        "Данный метод работает для функций вида:  \n",
        "     ((x-a)^alpha) * ksi(x)"
      ]
    },
    {
      "cell_type": "code",
      "execution_count": null,
      "metadata": {
        "id": "DOAVeUeTd3QJ",
        "outputId": "7c37e257-9461-49bb-f2d6-26cdfa9b4799"
      },
      "outputs": [
        {
          "data": {
            "text/html": [
              "<html><script type=\"math/tex; mode=display\">\\newcommand{\\Bold}[1]{\\mathbf{#1}}{\\left(-a + x\\right)}^{\\alpha} f</script></html>"
            ],
            "text/latex": [
              "\\begin{math}\n",
              "\\newcommand{\\Bold}[1]{\\mathbf{#1}}{\\left(-a + x\\right)}^{\\alpha} f\n",
              "\\end{math}"
            ],
            "text/plain": [
              "(-a + x)^alpha*f"
            ]
          },
          "metadata": {},
          "output_type": "display_data"
        }
      ],
      "source": [
        "(x,a,alpha,ksi,f) = var('x,a,alpha,ksi,f')\n",
        "func = ((x-a)**alpha)*f\n",
        "show(func)"
      ]
    },
    {
      "cell_type": "markdown",
      "metadata": {
        "id": "reimXJlDd3QK"
      },
      "source": [
        "где a - особая точка  \n",
        "а -1 < alpha < 0"
      ]
    },
    {
      "cell_type": "code",
      "execution_count": null,
      "metadata": {
        "id": "BAWbmNDUd3QK"
      },
      "outputs": [],
      "source": [
        "def pairTaylor_series(f,a,n,sep = 0.5):\n",
        "    df = f.derivative()\n",
        "    scur = f(x = a)\n",
        "    ssec = 0\n",
        "    for i in range(1,n + 1):\n",
        "        #print(df)\n",
        "        if( i <= n*sep):\n",
        "            scur += df(x = a)/(factorial(i)) * (x - a)**(i)\n",
        "        else:\n",
        "            ssec += df(x = a)/(factorial(i)) * (x - a)**(i)\n",
        "        df = df.derivative()\n",
        "    return (scur,ssec)"
      ]
    },
    {
      "cell_type": "code",
      "execution_count": null,
      "metadata": {
        "id": "WTeh7vuxd3QK"
      },
      "outputs": [],
      "source": [
        "f = ln(x + 1)"
      ]
    },
    {
      "cell_type": "code",
      "execution_count": null,
      "metadata": {
        "id": "UONJHi3Ad3QK",
        "outputId": "afd45ba2-8a0f-4fdf-d2fd-51506b9c625f"
      },
      "outputs": [
        {
          "data": {
            "text/plain": [
              "1/5*x^5 - 1/4*x^4 + 1/3*x^3 - 1/2*x^2 + x"
            ]
          },
          "execution_count": 54,
          "metadata": {},
          "output_type": "execute_result"
        }
      ],
      "source": [
        "Tf,Ts = pairTaylor_series(f,0,5)\n",
        "Tf += Ts\n",
        "Tf"
      ]
    },
    {
      "cell_type": "code",
      "execution_count": null,
      "metadata": {
        "id": "N93JKnKUd3QK",
        "outputId": "29675a20-706f-4d2b-ff0a-9cf37cda4029"
      },
      "outputs": [
        {
          "data": {
            "image/png": "[encoded data removed]",
            "text/plain": [
              "Graphics object consisting of 2 graphics primitives"
            ]
          },
          "metadata": {},
          "output_type": "display_data"
        }
      ],
      "source": [
        "show(plot(Tf,xmin = -2,xmax = 2,legend_label = \"разложение Тейлора\") +\n",
        "     plot(f,xmin = -1.0001,xmax = 2, color = \"red\",legend_label = \"истинная функция\",linestyle = \"-.\"),ymin = -5,ymax = 5)"
      ]
    },
    {
      "cell_type": "code",
      "execution_count": null,
      "metadata": {
        "id": "-Gw4Ba0hd3QK",
        "outputId": "e54efe3d-103e-471e-e60c-2711a5141b63"
      },
      "outputs": [
        {
          "data": {
            "text/html": [
              "<html><script type=\"math/tex; mode=display\">\\newcommand{\\Bold}[1]{\\mathbf{#1}}\\frac{1}{\\sqrt{x} \\sqrt{-x + 1}}</script></html>"
            ],
            "text/latex": [
              "\\begin{math}\n",
              "\\newcommand{\\Bold}[1]{\\mathbf{#1}}\\frac{1}{\\sqrt{x} \\sqrt{-x + 1}}\n",
              "\\end{math}"
            ],
            "text/plain": [
              "1/(sqrt(x)*sqrt(-x + 1))"
            ]
          },
          "metadata": {},
          "output_type": "display_data"
        }
      ],
      "source": [
        "a = 0\n",
        "al = (-1/2)\n",
        "csi =  (1-x)**(-1/2)\n",
        "\n",
        "X0 = 0\n",
        "X1 = 0.5\n",
        "\n",
        "f = ((x - a)**al)*csi(x)\n",
        "\n",
        "show(f)"
      ]
    },
    {
      "cell_type": "code",
      "execution_count": null,
      "metadata": {
        "id": "5NWnDi33d3QK",
        "outputId": "9ea0c47b-7b79-4365-cdcb-0281a0f802df"
      },
      "outputs": [
        {
          "data": {
            "text/html": [
              "<html><script type=\"math/tex; mode=display\">\\newcommand{\\Bold}[1]{\\mathbf{#1}}\\frac{46189}{262144} \\, x^{10} + \\frac{12155}{65536} \\, x^{9} + \\frac{6435}{32768} \\, x^{8} + \\frac{429}{2048} \\, x^{7} + \\frac{231}{1024} \\, x^{6} + \\frac{63}{256} \\, x^{5} + \\frac{35}{128} \\, x^{4} + \\frac{5}{16} \\, x^{3} + \\frac{3}{8} \\, x^{2} + \\frac{1}{2} \\, x + 1</script></html>"
            ],
            "text/latex": [
              "\\begin{math}\n",
              "\\newcommand{\\Bold}[1]{\\mathbf{#1}}\\frac{46189}{262144} \\, x^{10} + \\frac{12155}{65536} \\, x^{9} + \\frac{6435}{32768} \\, x^{8} + \\frac{429}{2048} \\, x^{7} + \\frac{231}{1024} \\, x^{6} + \\frac{63}{256} \\, x^{5} + \\frac{35}{128} \\, x^{4} + \\frac{5}{16} \\, x^{3} + \\frac{3}{8} \\, x^{2} + \\frac{1}{2} \\, x + 1\n",
              "\\end{math}"
            ],
            "text/plain": [
              "46189/262144*x^10 + 12155/65536*x^9 + 6435/32768*x^8 + 429/2048*x^7 + 231/1024*x^6 + 63/256*x^5 + 35/128*x^4 + 5/16*x^3 + 3/8*x^2 + 1/2*x + 1"
            ]
          },
          "metadata": {},
          "output_type": "display_data"
        },
        {
          "data": {
            "image/png": "[encoded data removed]",
            "text/plain": [
              "Graphics object consisting of 2 graphics primitives"
            ]
          },
          "metadata": {},
          "output_type": "display_data"
        }
      ],
      "source": [
        "Tf,Ts = pairTaylor_series(csi,0,10)\n",
        "T = Tf + Ts\n",
        "show(T)\n",
        "\n",
        "show(plot(T,xmin = X0,xmax = X1,legend_label = \"разложение Тейлора\") +\n",
        "     plot(csi,xmin = X0,xmax = X1, color = \"red\",legend_label = \"истинная функция\",linestyle = \"-.\"),ymin = -5,ymax = 5)"
      ]
    },
    {
      "cell_type": "code",
      "execution_count": null,
      "metadata": {
        "id": "W1vKaorWd3QK",
        "outputId": "1c85ec3b-64e8-445a-eb3b-04fba136e3d3"
      },
      "outputs": [
        {
          "data": {
            "text/html": [
              "<html><script type=\"math/tex; mode=display\">\\newcommand{\\Bold}[1]{\\mathbf{#1}}\\verb|g(x)|\\phantom{\\verb!x!}\\verb|=|</script></html>"
            ],
            "text/latex": [
              "\\begin{math}\n",
              "\\newcommand{\\Bold}[1]{\\mathbf{#1}}\\verb|g(x)|\\phantom{\\verb!x!}\\verb|=|\n",
              "\\end{math}"
            ],
            "text/plain": [
              "'g(x) = '"
            ]
          },
          "metadata": {},
          "output_type": "display_data"
        },
        {
          "data": {
            "text/html": [
              "<html><script type=\"math/tex; mode=display\">\\newcommand{\\Bold}[1]{\\mathbf{#1}}\\frac{63}{256} \\, x^{\\frac{9}{2}} + \\frac{35}{128} \\, x^{\\frac{7}{2}} + \\frac{5}{16} \\, x^{\\frac{5}{2}} + \\frac{3}{8} \\, x^{\\frac{3}{2}} + \\frac{1}{2} \\, \\sqrt{x} + \\frac{1}{\\sqrt{x}}</script></html>"
            ],
            "text/latex": [
              "\\begin{math}\n",
              "\\newcommand{\\Bold}[1]{\\mathbf{#1}}\\frac{63}{256} \\, x^{\\frac{9}{2}} + \\frac{35}{128} \\, x^{\\frac{7}{2}} + \\frac{5}{16} \\, x^{\\frac{5}{2}} + \\frac{3}{8} \\, x^{\\frac{3}{2}} + \\frac{1}{2} \\, \\sqrt{x} + \\frac{1}{\\sqrt{x}}\n",
              "\\end{math}"
            ],
            "text/plain": [
              "63/256*x^(9/2) + 35/128*x^(7/2) + 5/16*x^(5/2) + 3/8*x^(3/2) + 1/2*sqrt(x) + 1/sqrt(x)"
            ]
          },
          "metadata": {},
          "output_type": "display_data"
        },
        {
          "data": {
            "text/html": [
              "<html><script type=\"math/tex; mode=display\">\\newcommand{\\Bold}[1]{\\mathbf{#1}}\\verb|phi(x)|\\phantom{\\verb!x!}\\verb|=|</script></html>"
            ],
            "text/latex": [
              "\\begin{math}\n",
              "\\newcommand{\\Bold}[1]{\\mathbf{#1}}\\verb|phi(x)|\\phantom{\\verb!x!}\\verb|=|\n",
              "\\end{math}"
            ],
            "text/plain": [
              "'phi(x) = '"
            ]
          },
          "metadata": {},
          "output_type": "display_data"
        },
        {
          "data": {
            "text/html": [
              "<html><script type=\"math/tex; mode=display\">\\newcommand{\\Bold}[1]{\\mathbf{#1}}\\frac{46189}{262144} \\, x^{\\frac{19}{2}} + \\frac{12155}{65536} \\, x^{\\frac{17}{2}} + \\frac{6435}{32768} \\, x^{\\frac{15}{2}} + \\frac{429}{2048} \\, x^{\\frac{13}{2}} + \\frac{231}{1024} \\, x^{\\frac{11}{2}}</script></html>"
            ],
            "text/latex": [
              "\\begin{math}\n",
              "\\newcommand{\\Bold}[1]{\\mathbf{#1}}\\frac{46189}{262144} \\, x^{\\frac{19}{2}} + \\frac{12155}{65536} \\, x^{\\frac{17}{2}} + \\frac{6435}{32768} \\, x^{\\frac{15}{2}} + \\frac{429}{2048} \\, x^{\\frac{13}{2}} + \\frac{231}{1024} \\, x^{\\frac{11}{2}}\n",
              "\\end{math}"
            ],
            "text/plain": [
              "46189/262144*x^(19/2) + 12155/65536*x^(17/2) + 6435/32768*x^(15/2) + 429/2048*x^(13/2) + 231/1024*x^(11/2)"
            ]
          },
          "metadata": {},
          "output_type": "display_data"
        }
      ],
      "source": [
        "g(x) = ((x - a)**al)*Tf\n",
        "phi(x) = ((x - a)**al)*Ts\n",
        "\n",
        "g(x) = g(x).expand().simplify()\n",
        "phi(x) = phi(x).expand().simplify()\n",
        "\n",
        "show(\"g(x) = \")\n",
        "show(g(x).expand().simplify())\n",
        "show(\"phi(x) = \")\n",
        "show(phi(x).expand().simplify())"
      ]
    },
    {
      "cell_type": "code",
      "execution_count": null,
      "metadata": {
        "id": "vFZfzsFhd3QK",
        "outputId": "c344060f-953f-447d-f472-a77ce3584966"
      },
      "outputs": [
        {
          "data": {
            "image/png": "[encoded data removed]",
            "text/plain": [
              "Graphics object consisting of 2 graphics primitives"
            ]
          },
          "metadata": {},
          "output_type": "display_data"
        }
      ],
      "source": [
        "show(plot(g(x),xmin = X0,xmax = X1) + plot(phi(x),xmin = X0,xmax = X1,color = \"green\"),ymin = 0,ymax =5)"
      ]
    },
    {
      "cell_type": "code",
      "execution_count": null,
      "metadata": {
        "id": "-tqOOgxUd3QK",
        "outputId": "c9cd0e52-e68a-49a9-e007-d97cdd74ca3d"
      },
      "outputs": [
        {
          "data": {
            "text/html": [
              "<html><script type=\"math/tex; mode=display\">\\newcommand{\\Bold}[1]{\\mathbf{#1}}1.5707867680588379</script></html>"
            ],
            "text/latex": [
              "\\begin{math}\n",
              "\\newcommand{\\Bold}[1]{\\mathbf{#1}}1.5707867680588379\n",
              "\\end{math}"
            ],
            "text/plain": [
              "1.5707867680588379"
            ]
          },
          "metadata": {},
          "output_type": "display_data"
        }
      ],
      "source": [
        "result = integral(g(x),x,X0,X1) + integrate(phi(x),X0,X1,0.01,\"rect\")\n",
        "show(result)"
      ]
    },
    {
      "cell_type": "code",
      "execution_count": null,
      "metadata": {
        "id": "ZfBnBiZ5d3QK",
        "outputId": "d0d5ef1d-c9a8-48bf-a360-35131cfe9c49"
      },
      "outputs": [
        {
          "data": {
            "text/plain": [
              "0.000640102529309632"
            ]
          },
          "execution_count": 61,
          "metadata": {},
          "output_type": "execute_result"
        }
      ],
      "source": [
        " integrate(phi(x),X0,X1,0.001,\"simpson\")"
      ]
    },
    {
      "cell_type": "code",
      "execution_count": null,
      "metadata": {
        "id": "TcQG5kOid3QQ",
        "outputId": "fedc2c06-5af2-446d-802d-3031b172fdf5"
      },
      "outputs": [
        {
          "data": {
            "text/plain": [
              "1.5701471425751357"
            ]
          },
          "execution_count": 62,
          "metadata": {},
          "output_type": "execute_result"
        }
      ],
      "source": [
        "integral(g(x),x,X0,X1)"
      ]
    },
    {
      "cell_type": "code",
      "execution_count": null,
      "metadata": {
        "id": "dASStCD0d3QQ"
      },
      "outputs": [],
      "source": [
        "def pairTaylor_series(f,a,n,sep = 0.5):\n",
        "    df = f.derivative()\n",
        "    scur = f(x = a)\n",
        "    ssec = 0\n",
        "    for i in range(1,n + 1):\n",
        "        if( i < n*sep):\n",
        "            scur += df(x = a)/(factorial(i)) * (x - a)**(i)\n",
        "        else:\n",
        "            ssec += df(x = a)/(factorial(i)) * (x - a)**(i)\n",
        "        df = df.derivative()\n",
        "    return (scur,ssec)\n",
        "\n",
        "def Improper_integral_SP_isolation(h = 0.01, #решение несобственного интеграла второго рода методом выделения особенности\n",
        "                                   trace = false, #применимо лишь для функций определенного вида\n",
        "                                   sep = 0.5,\n",
        "                                   method = \"rect\"):\n",
        "    Tf,Ts = pairTaylor_series(csi,0,10,sep = sep)\n",
        "    T = Tf + Ts\n",
        "    if(trace):\n",
        "        show(T)\n",
        "\n",
        "        show(plot(T,xmin = X0,xmax = X1,legend_label = \"разложение Тейлора\") +\n",
        "             plot(csi,xmin = X0,xmax = X1, color = \"red\",legend_label = \"истинная функция\",linestyle = \"-.\"),\n",
        "             ymin = -5,ymax = 5)\n",
        "\n",
        "    g(x) = ((x - a)**al)*Tf\n",
        "    phi(x) = ((x - a)**al)*Ts\n",
        "\n",
        "    g(x) = g(x).expand().simplify()\n",
        "    phi(x) = phi(x).expand().simplify()\n",
        "\n",
        "    if(trace):\n",
        "        show(\"g(x) = \")\n",
        "        show(g(x).expand().simplify())\n",
        "        show(\"phi(x) = \")\n",
        "        show(phi(x).expand().simplify())\n",
        "        show(plot(g(x),xmin = X0,xmax = X1,legend_label = \"g(x)\") +\n",
        "             plot(phi(x),xmin = X0,xmax = X1,color = \"green\",legend_label = \"phi(x)\"),\n",
        "             ymin = 0,ymax =5)\n",
        "\n",
        "    result = integral(g(x),x,X0,X1) + integrate(phi(x),X0,X1,h,method)\n",
        "    return result"
      ]
    },
    {
      "cell_type": "code",
      "execution_count": null,
      "metadata": {
        "id": "jYfFj_EQd3QQ",
        "outputId": "b6770293-63ef-48be-9f4c-e4c9836e82d1"
      },
      "outputs": [
        {
          "data": {
            "text/html": [
              "<html><script type=\"math/tex; mode=display\">\\newcommand{\\Bold}[1]{\\mathbf{#1}}\\verb|Необходимо|\\phantom{\\verb!x!}\\verb|рассчитать|\\phantom{\\verb!x!}\\verb|интеграл|\\phantom{\\verb!x!}\\verb|этой|\\phantom{\\verb!x!}\\verb|функции:|</script></html>"
            ],
            "text/latex": [
              "\\begin{math}\n",
              "\\newcommand{\\Bold}[1]{\\mathbf{#1}}\\verb|Необходимо|\\phantom{\\verb!x!}\\verb|рассчитать|\\phantom{\\verb!x!}\\verb|интеграл|\\phantom{\\verb!x!}\\verb|этой|\\phantom{\\verb!x!}\\verb|функции:|\n",
              "\\end{math}"
            ],
            "text/plain": [
              "'Необходимо рассчитать интеграл этой функции:'"
            ]
          },
          "metadata": {},
          "output_type": "display_data"
        },
        {
          "data": {
            "text/html": [
              "<html><script type=\"math/tex; mode=display\">\\newcommand{\\Bold}[1]{\\mathbf{#1}}\\frac{1}{\\sqrt{x} \\sqrt{-x + 1}}</script></html>"
            ],
            "text/latex": [
              "\\begin{math}\n",
              "\\newcommand{\\Bold}[1]{\\mathbf{#1}}\\frac{1}{\\sqrt{x} \\sqrt{-x + 1}}\n",
              "\\end{math}"
            ],
            "text/plain": [
              "1/(sqrt(x)*sqrt(-x + 1))"
            ]
          },
          "metadata": {},
          "output_type": "display_data"
        },
        {
          "data": {
            "text/html": [
              "<html><script type=\"math/tex; mode=display\">\\newcommand{\\Bold}[1]{\\mathbf{#1}}\\verb|От|\\phantom{\\verb!x!}\\verb|0.00000|\\phantom{\\verb!x!}\\verb|до|\\phantom{\\verb!x!}\\verb|0.50000|</script></html>"
            ],
            "text/latex": [
              "\\begin{math}\n",
              "\\newcommand{\\Bold}[1]{\\mathbf{#1}}\\verb|От|\\phantom{\\verb!x!}\\verb|0.00000|\\phantom{\\verb!x!}\\verb|до|\\phantom{\\verb!x!}\\verb|0.50000|\n",
              "\\end{math}"
            ],
            "text/plain": [
              "'От 0.00000 до 0.50000'"
            ]
          },
          "metadata": {},
          "output_type": "display_data"
        },
        {
          "data": {
            "text/html": [
              "<html><script type=\"math/tex; mode=display\">\\newcommand{\\Bold}[1]{\\mathbf{#1}}\\verb|Ее|\\phantom{\\verb!x!}\\verb|график:|</script></html>"
            ],
            "text/latex": [
              "\\begin{math}\n",
              "\\newcommand{\\Bold}[1]{\\mathbf{#1}}\\verb|Ее|\\phantom{\\verb!x!}\\verb|график:|\n",
              "\\end{math}"
            ],
            "text/plain": [
              "'Ее график:'"
            ]
          },
          "metadata": {},
          "output_type": "display_data"
        },
        {
          "data": {
            "image/png": "[encoded data removed]",
            "text/plain": [
              "Graphics object consisting of 1 graphics primitive"
            ]
          },
          "metadata": {},
          "output_type": "display_data"
        }
      ],
      "source": [
        "a = 0\n",
        "al = (-1/2)\n",
        "csi =  (1-x)**(-1/2)\n",
        "\n",
        "X0 = 0\n",
        "X1 = 0.5\n",
        "\n",
        "f = ((x - a)**al)*csi(x)\n",
        "\n",
        "show(\"Необходимо рассчитать интеграл этой функции:\")\n",
        "show(f)\n",
        "show(\"От {} до {}\".format(X0.n(digits = 5),X1.n(digits = 5)))\n",
        "\n",
        "show(\"Ее график:\")\n",
        "show(plot(f,xmin = X0, xmax = X1,ymin = 0,ymax = 5))"
      ]
    },
    {
      "cell_type": "code",
      "execution_count": null,
      "metadata": {
        "id": "RTpayBQFd3QQ",
        "outputId": "59c36dcf-c639-4064-da35-f94cc7afbd1c"
      },
      "outputs": [
        {
          "name": "stdout",
          "output_type": "stream",
          "text": [
            "\n",
            "\n",
            "\n"
          ]
        },
        {
          "data": {
            "text/html": [
              "<html><script type=\"math/tex; mode=display\">\\newcommand{\\Bold}[1]{\\mathbf{#1}}\\frac{46189}{262144} \\, x^{10} + \\frac{12155}{65536} \\, x^{9} + \\frac{6435}{32768} \\, x^{8} + \\frac{429}{2048} \\, x^{7} + \\frac{231}{1024} \\, x^{6} + \\frac{63}{256} \\, x^{5} + \\frac{35}{128} \\, x^{4} + \\frac{5}{16} \\, x^{3} + \\frac{3}{8} \\, x^{2} + \\frac{1}{2} \\, x + 1</script></html>"
            ],
            "text/latex": [
              "\\begin{math}\n",
              "\\newcommand{\\Bold}[1]{\\mathbf{#1}}\\frac{46189}{262144} \\, x^{10} + \\frac{12155}{65536} \\, x^{9} + \\frac{6435}{32768} \\, x^{8} + \\frac{429}{2048} \\, x^{7} + \\frac{231}{1024} \\, x^{6} + \\frac{63}{256} \\, x^{5} + \\frac{35}{128} \\, x^{4} + \\frac{5}{16} \\, x^{3} + \\frac{3}{8} \\, x^{2} + \\frac{1}{2} \\, x + 1\n",
              "\\end{math}"
            ],
            "text/plain": [
              "46189/262144*x^10 + 12155/65536*x^9 + 6435/32768*x^8 + 429/2048*x^7 + 231/1024*x^6 + 63/256*x^5 + 35/128*x^4 + 5/16*x^3 + 3/8*x^2 + 1/2*x + 1"
            ]
          },
          "metadata": {},
          "output_type": "display_data"
        },
        {
          "data": {
            "image/png": "[encoded data removed]",
            "text/plain": [
              "Graphics object consisting of 2 graphics primitives"
            ]
          },
          "metadata": {},
          "output_type": "display_data"
        },
        {
          "data": {
            "text/html": [
              "<html><script type=\"math/tex; mode=display\">\\newcommand{\\Bold}[1]{\\mathbf{#1}}\\verb|g(x)|\\phantom{\\verb!x!}\\verb|=|</script></html>"
            ],
            "text/latex": [
              "\\begin{math}\n",
              "\\newcommand{\\Bold}[1]{\\mathbf{#1}}\\verb|g(x)|\\phantom{\\verb!x!}\\verb|=|\n",
              "\\end{math}"
            ],
            "text/plain": [
              "'g(x) = '"
            ]
          },
          "metadata": {},
          "output_type": "display_data"
        },
        {
          "data": {
            "text/html": [
              "<html><script type=\"math/tex; mode=display\">\\newcommand{\\Bold}[1]{\\mathbf{#1}}\\frac{1}{\\sqrt{x}}</script></html>"
            ],
            "text/latex": [
              "\\begin{math}\n",
              "\\newcommand{\\Bold}[1]{\\mathbf{#1}}\\frac{1}{\\sqrt{x}}\n",
              "\\end{math}"
            ],
            "text/plain": [
              "1/sqrt(x)"
            ]
          },
          "metadata": {},
          "output_type": "display_data"
        },
        {
          "data": {
            "text/html": [
              "<html><script type=\"math/tex; mode=display\">\\newcommand{\\Bold}[1]{\\mathbf{#1}}\\verb|phi(x)|\\phantom{\\verb!x!}\\verb|=|</script></html>"
            ],
            "text/latex": [
              "\\begin{math}\n",
              "\\newcommand{\\Bold}[1]{\\mathbf{#1}}\\verb|phi(x)|\\phantom{\\verb!x!}\\verb|=|\n",
              "\\end{math}"
            ],
            "text/plain": [
              "'phi(x) = '"
            ]
          },
          "metadata": {},
          "output_type": "display_data"
        },
        {
          "data": {
            "text/html": [
              "<html><script type=\"math/tex; mode=display\">\\newcommand{\\Bold}[1]{\\mathbf{#1}}\\frac{46189}{262144} \\, x^{\\frac{19}{2}} + \\frac{12155}{65536} \\, x^{\\frac{17}{2}} + \\frac{6435}{32768} \\, x^{\\frac{15}{2}} + \\frac{429}{2048} \\, x^{\\frac{13}{2}} + \\frac{231}{1024} \\, x^{\\frac{11}{2}} + \\frac{63}{256} \\, x^{\\frac{9}{2}} + \\frac{35}{128} \\, x^{\\frac{7}{2}} + \\frac{5}{16} \\, x^{\\frac{5}{2}} + \\frac{3}{8} \\, x^{\\frac{3}{2}} + \\frac{1}{2} \\, \\sqrt{x}</script></html>"
            ],
            "text/latex": [
              "\\begin{math}\n",
              "\\newcommand{\\Bold}[1]{\\mathbf{#1}}\\frac{46189}{262144} \\, x^{\\frac{19}{2}} + \\frac{12155}{65536} \\, x^{\\frac{17}{2}} + \\frac{6435}{32768} \\, x^{\\frac{15}{2}} + \\frac{429}{2048} \\, x^{\\frac{13}{2}} + \\frac{231}{1024} \\, x^{\\frac{11}{2}} + \\frac{63}{256} \\, x^{\\frac{9}{2}} + \\frac{35}{128} \\, x^{\\frac{7}{2}} + \\frac{5}{16} \\, x^{\\frac{5}{2}} + \\frac{3}{8} \\, x^{\\frac{3}{2}} + \\frac{1}{2} \\, \\sqrt{x}\n",
              "\\end{math}"
            ],
            "text/plain": [
              "46189/262144*x^(19/2) + 12155/65536*x^(17/2) + 6435/32768*x^(15/2) + 429/2048*x^(13/2) + 231/1024*x^(11/2) + 63/256*x^(9/2) + 35/128*x^(7/2) + 5/16*x^(5/2) + 3/8*x^(3/2) + 1/2*sqrt(x)"
            ]
          },
          "metadata": {},
          "output_type": "display_data"
        },
        {
          "data": {
            "image/png": "[encoded data removed]",
            "text/plain": [
              "Graphics object consisting of 2 graphics primitives"
            ]
          },
          "metadata": {},
          "output_type": "display_data"
        },
        {
          "data": {
            "text/html": [
              "<html><script type=\"math/tex; mode=display\">\\newcommand{\\Bold}[1]{\\mathbf{#1}}1.5711839598201678</script></html>"
            ],
            "text/latex": [
              "\\begin{math}\n",
              "\\newcommand{\\Bold}[1]{\\mathbf{#1}}1.5711839598201678\n",
              "\\end{math}"
            ],
            "text/plain": [
              "1.5711839598201678"
            ]
          },
          "metadata": {},
          "output_type": "display_data"
        }
      ],
      "source": [
        "print(\"\\n\\n\")\n",
        "res = Improper_integral_SP_isolation(h = 0.1,sep = 0.1,trace = true)\n",
        "show(res)"
      ]
    },
    {
      "cell_type": "code",
      "execution_count": null,
      "metadata": {
        "id": "y8nmthlVd3QQ"
      },
      "outputs": [],
      "source": [
        "h = 0.1"
      ]
    },
    {
      "cell_type": "code",
      "execution_count": null,
      "metadata": {
        "id": "EypN1VKBd3QQ",
        "outputId": "653d0b30-ec41-4f76-f72d-341ed9fbfec2"
      },
      "outputs": [
        {
          "data": {
            "text/html": [
              "<html><script type=\"math/tex; mode=display\">\\newcommand{\\Bold}[1]{\\mathbf{#1}}\\verb|Метод|\\phantom{\\verb!x!}\\verb|выделения|\\phantom{\\verb!x!}\\verb|особенности|</script></html>"
            ],
            "text/latex": [
              "\\begin{math}\n",
              "\\newcommand{\\Bold}[1]{\\mathbf{#1}}\\verb|Метод|\\phantom{\\verb!x!}\\verb|выделения|\\phantom{\\verb!x!}\\verb|особенности|\n",
              "\\end{math}"
            ],
            "text/plain": [
              "'Метод выделения особенности'"
            ]
          },
          "metadata": {},
          "output_type": "display_data"
        },
        {
          "data": {
            "text/html": [
              "<html><script type=\"math/tex; mode=display\">\\newcommand{\\Bold}[1]{\\mathbf{#1}}\\begin{array}{l}\n",
              "\\verb|Результат:|\\phantom{\\verb!x!}\\verb|1.5707005541572556|\\\\\n",
              "\\verb|\t|\\phantom{\\verb!x!}\\verb|Шаг|\\phantom{\\verb!x!}\\verb|интегрирования:|\\phantom{\\verb!x!}\\verb|0.10|\\\\\n",
              "\\verb\"\t\"\\phantom{\\verb!x!}\\verb\"Ошибка\"\\phantom{\\verb!x!}\\verb\"(Рунге\"\\phantom{\\verb!x!}\\verb\"Ромберг\"\\phantom{\\verb!x!}\\verb\"|\"\\phantom{\\verb!x!}\\verb\"0.01):\"\\phantom{\\verb!x!}\\verb\"0.00039980858781429873\"\\\\\n",
              "\\verb|\t|\\phantom{\\verb!x!}\\verb|Ошибка|\\phantom{\\verb!x!}\\verb|(Истинная)|\\phantom{\\verb!x!}\\verb|0.00038763302527100585|\n",
              "\\end{array}</script></html>"
            ],
            "text/latex": [
              "\\begin{math}\n",
              "\\newcommand{\\Bold}[1]{\\mathbf{#1}}\\begin{array}{l}\n",
              "\\verb|Результат:|\\phantom{\\verb!x!}\\verb|1.5707005541572556|\\\\\n",
              "\\verb|\t|\\phantom{\\verb!x!}\\verb|Шаг|\\phantom{\\verb!x!}\\verb|интегрирования:|\\phantom{\\verb!x!}\\verb|0.10|\\\\\n",
              "\\verb\"\t\"\\phantom{\\verb!x!}\\verb\"Ошибка\"\\phantom{\\verb!x!}\\verb\"(Рунге\"\\phantom{\\verb!x!}\\verb\"Ромберг\"\\phantom{\\verb!x!}\\verb\"|\"\\phantom{\\verb!x!}\\verb\"0.01):\"\\phantom{\\verb!x!}\\verb\"0.00039980858781429873\"\\\\\n",
              "\\verb|\t|\\phantom{\\verb!x!}\\verb|Ошибка|\\phantom{\\verb!x!}\\verb|(Истинная)|\\phantom{\\verb!x!}\\verb|0.00038763302527100585|\n",
              "\\end{array}\n",
              "\\end{math}"
            ],
            "text/plain": [
              "'Результат: 1.5707005541572556\\n\\t Шаг интегрирования: 0.10\\n\\t Ошибка (Рунге Ромберг | 0.01): 0.00039980858781429873\\n\\t Ошибка (Истинная) 0.00038763302527100585'"
            ]
          },
          "metadata": {},
          "output_type": "display_data"
        }
      ],
      "source": [
        "show(\"Метод выделения особенности\")\n",
        "show(\"Результат: {}\\n\\t Шаг интегрирования: {}\\n\\t Ошибка (Рунге Ромберг | 0.01): {}\\n\\t Ошибка (Истинная) {}\".\n",
        "     format(Improper_integral_SP_isolation(h,trace = false),\n",
        "            h.n(digits = 2),\n",
        "            abs(runge_romberg_error_h(Improper_integral_SP_isolation(h,sep = 0.1),Improper_integral_SP_isolation(h*0.01,sep = 0.1),0.01,1)),\n",
        "            abs(Improper_integral_SP_isolation(h,sep = 0.1) - integral(f,x,X0,X1).n(digits = 50))))"
      ]
    },
    {
      "cell_type": "code",
      "execution_count": null,
      "metadata": {
        "id": "B8ctEDKLd3QQ"
      },
      "outputs": [],
      "source": [
        "show(\"Метод прямоугольников\")\n",
        "show(\"Результат: {}\\n\\t Шаг интегрирования: {}\\n\\t Ошибка (Рунге Ромберг | 0.015): {}\\n\\t Ошибка (Истинная) {}\".\n",
        "     format(integrate(f,X0,X1,h,\"rect\",trace = false),\n",
        "            h.n(digits = 2),\n",
        "            abs(runge_rumbert_error(f,X0,X1,h,0.01,\"rect\")),\n",
        "            abs(integrate(f,X0,X1,h,\"rect\") - integral(f,x,X0,X1).n(digits = 50))))"
      ]
    },
    {
      "cell_type": "code",
      "execution_count": null,
      "metadata": {
        "id": "o8WZab8Jd3QQ",
        "outputId": "9e89b1a1-0f90-4f3f-da9b-38ee5c5c458d"
      },
      "outputs": [
        {
          "data": {
            "text/html": [
              "<html><script type=\"math/tex; mode=display\">\\newcommand{\\Bold}[1]{\\mathbf{#1}}\\verb|Необходимо|\\phantom{\\verb!x!}\\verb|рассчитать|\\phantom{\\verb!x!}\\verb|интеграл|\\phantom{\\verb!x!}\\verb|этой|\\phantom{\\verb!x!}\\verb|функции:|</script></html>"
            ],
            "text/latex": [
              "\\begin{math}\n",
              "\\newcommand{\\Bold}[1]{\\mathbf{#1}}\\verb|Необходимо|\\phantom{\\verb!x!}\\verb|рассчитать|\\phantom{\\verb!x!}\\verb|интеграл|\\phantom{\\verb!x!}\\verb|этой|\\phantom{\\verb!x!}\\verb|функции:|\n",
              "\\end{math}"
            ],
            "text/plain": [
              "'Необходимо рассчитать интеграл этой функции:'"
            ]
          },
          "metadata": {},
          "output_type": "display_data"
        },
        {
          "data": {
            "text/html": [
              "<html><script type=\"math/tex; mode=display\">\\newcommand{\\Bold}[1]{\\mathbf{#1}}\\frac{1}{x^{0.909090909090909} \\sqrt{-x + 1}}</script></html>"
            ],
            "text/latex": [
              "\\begin{math}\n",
              "\\newcommand{\\Bold}[1]{\\mathbf{#1}}\\frac{1}{x^{0.909090909090909} \\sqrt{-x + 1}}\n",
              "\\end{math}"
            ],
            "text/plain": [
              "1/(x^0.909090909090909*sqrt(-x + 1))"
            ]
          },
          "metadata": {},
          "output_type": "display_data"
        },
        {
          "data": {
            "text/html": [
              "<html><script type=\"math/tex; mode=display\">\\newcommand{\\Bold}[1]{\\mathbf{#1}}\\verb|От|\\phantom{\\verb!x!}\\verb|0.00000|\\phantom{\\verb!x!}\\verb|до|\\phantom{\\verb!x!}\\verb|0.50000|</script></html>"
            ],
            "text/latex": [
              "\\begin{math}\n",
              "\\newcommand{\\Bold}[1]{\\mathbf{#1}}\\verb|От|\\phantom{\\verb!x!}\\verb|0.00000|\\phantom{\\verb!x!}\\verb|до|\\phantom{\\verb!x!}\\verb|0.50000|\n",
              "\\end{math}"
            ],
            "text/plain": [
              "'От 0.00000 до 0.50000'"
            ]
          },
          "metadata": {},
          "output_type": "display_data"
        },
        {
          "data": {
            "text/html": [
              "<html><script type=\"math/tex; mode=display\">\\newcommand{\\Bold}[1]{\\mathbf{#1}}\\verb|Ее|\\phantom{\\verb!x!}\\verb|график:|</script></html>"
            ],
            "text/latex": [
              "\\begin{math}\n",
              "\\newcommand{\\Bold}[1]{\\mathbf{#1}}\\verb|Ее|\\phantom{\\verb!x!}\\verb|график:|\n",
              "\\end{math}"
            ],
            "text/plain": [
              "'Ее график:'"
            ]
          },
          "metadata": {},
          "output_type": "display_data"
        },
        {
          "data": {
            "image/png": "[encoded data removed]",
            "text/plain": [
              "Graphics object consisting of 1 graphics primitive"
            ]
          },
          "metadata": {},
          "output_type": "display_data"
        }
      ],
      "source": [
        "a = 0\n",
        "al = (-1/1.1)\n",
        "csi =  (1-x)**(-1/2)\n",
        "\n",
        "X0 = 0\n",
        "X1 = 0.5\n",
        "\n",
        "f = ((x - a)**al)*csi(x)\n",
        "\n",
        "show(\"Необходимо рассчитать интеграл этой функции:\")\n",
        "show(f)\n",
        "show(\"От {} до {}\".format(X0.n(digits = 5),X1.n(digits = 5)))\n",
        "\n",
        "show(\"Ее график:\")\n",
        "show(plot(f,xmin = X0, xmax = X1,ymin = 0,ymax = 100))"
      ]
    },
    {
      "cell_type": "markdown",
      "metadata": {
        "id": "INZzuHdxd3QR"
      },
      "source": [
        "Основной минус этого метода заключается в том, что он требует непосредственного вычисления интеграла, и оттого не может считаться на 100% численным."
      ]
    },
    {
      "cell_type": "markdown",
      "metadata": {
        "id": "zM3S-O64d3QR"
      },
      "source": [
        "### Метод исключения особой точки"
      ]
    },
    {
      "cell_type": "markdown",
      "metadata": {
        "id": "fo4b1wJzd3QR"
      },
      "source": [
        "С пердварительной обработкой"
      ]
    },
    {
      "cell_type": "code",
      "execution_count": null,
      "metadata": {
        "id": "3EJrMerqd3QR"
      },
      "outputs": [],
      "source": [
        "def Improper_integral_SP_exclusion(#функция обнаруживает точечнык особенности, и при интегрировании пропускает их\n",
        "                                   f,X0,X1,h,\n",
        "                                   trace = false,\n",
        "                                   method = \"rect\",\n",
        "                                   eps = 1e-4):\n",
        "                                   #без сдвига сетки\n",
        "    hc = h #с шагом h будем вычислять производную\n",
        "    h /= 2 #проверять надо точки, из которых будем брать занчения f\n",
        "    infpos = 1/h\n",
        "    infneg = -1/h\n",
        "    xcur = X0\n",
        "    if(trace):\n",
        "            print(\"{} -- {} | checking...\".format(X0,X1))\n",
        "\n",
        "    i = 0\n",
        "    repmark = (X1-X0)/(hc*10)\n",
        "    result = 0\n",
        "    while (xcur < X1 + h*eps):\n",
        "\n",
        "        try:\n",
        "            f(x = xcur)\n",
        "            if(trace and (( i % (repmark) == 0) or abs(f(x = xcur)) > infpos/10 or complex(f(x = xcur)).imag != 0)):\n",
        "                print(\"{} -- {} ({}) -- {} \\t|{}|\".format(X0,xcur,f(x = xcur),X1,h))\n",
        "        except(BaseException): #проверка на деление на 0\n",
        "            if(trace):\n",
        "                print(\" |0|\")\n",
        "                print(\"  !{} -- {} (NAN) -- {} \\t|{}|\".format(X0,xcur,X1,h))\n",
        "            if(xcur - eps < X0):\n",
        "                #это начальная точка\n",
        "                #сдвигаем начало на шаг\n",
        "                X0 += hc\n",
        "                xcur += h\n",
        "                #проверяем следующую точку\n",
        "                continue\n",
        "            else:\n",
        "                if(xcur + eps > X1):\n",
        "                    #это последняя точка\n",
        "                    #после инетгрировать не нужно\n",
        "                    if(trace):\n",
        "                        print(\"integrating ps...\")\n",
        "                    return integrate(f,X0,X1 - hc, h = hc,method = method,eps = hc*eps, trace = trace)\n",
        "                else:\n",
        "                    #это точка в середине\n",
        "                    if(trace):\n",
        "                        print(\"integrating fu ps...\")\n",
        "                    #интегрироуем до последнего проверенного узла\n",
        "                    result += integrate(f,X0,xcur - hc, h = hc,method = method,eps = hc*eps, trace = trace)\n",
        "                    #продолжаем проверку со следующего узла\n",
        "                    X0 = xcur + hc\n",
        "                    continue\n",
        "\n",
        "        if (f(x = xcur) > infpos or f(x = xcur) < infneg): #проверка на сверхбольшие значения\n",
        "            if(trace):\n",
        "                print(\" |inf|\")\n",
        "                print(\"  !{} -- {} ({}) -- {} \\t|{}|\".format(X0,xcur,f(x = xcur),X1,h))\n",
        "            if(xcur - eps < X0):\n",
        "                #это начальная точка\n",
        "                #сдвигаем начало на шаг\n",
        "                X0 += hc\n",
        "                xcur += h\n",
        "                #проверяем следующую точку\n",
        "                continue\n",
        "            else:\n",
        "                if(xcur + eps > X1):\n",
        "                    #это последняя точка\n",
        "                    #после инетгрировать не нужно\n",
        "                    if(trace):\n",
        "                        print(\"integrating ps...\")\n",
        "                    return integrate(f,X0,X1 - hc, h = hc,method = method,eps = hc*eps, trace = trace)\n",
        "                else:\n",
        "                    #это точка в середине\n",
        "                    if(trace):\n",
        "                        print(\"integrating fu ps...\")\n",
        "                    #интегрироуем до последнего проверенного узла\n",
        "                    result += integrate(f,X0,xcur - hc, h = hc,method = method,eps = hc*eps, trace = trace)\n",
        "                    #продолжаем проверку со следующего узла\n",
        "                    X0 = xcur + hc\n",
        "                    continue\n",
        "\n",
        "        if (complex(f(x = xcur)).imag != 0):\n",
        "            if(trace):\n",
        "                print(\" |complex|\")\n",
        "                print(\"  !{} -- {} ({}) -- {} \\t|{}|\".format(X0,xcur,f(x = xcur),X1,h))\n",
        "            if(xcur - eps < X0):\n",
        "                #это начальная точка\n",
        "                #сдвигаем начало на шаг\n",
        "                X0 += hc\n",
        "                xcur += h\n",
        "                #проверяем следующую точку\n",
        "                continue\n",
        "            else:\n",
        "                if(xcur + eps > X1):\n",
        "                    #это последняя точка\n",
        "                    #после инетгрировать не нужно\n",
        "                    if(trace):\n",
        "                        print(\"integrating ps...\")\n",
        "                    return integrate(f,X0,X1 - hc, h = hc,method = method,eps = hc*eps, trace = trace)\n",
        "                else:\n",
        "                    #это точка в середине\n",
        "                    if(trace):\n",
        "                        print(\"integrating fu ps...\")\n",
        "                    #интегрироуем до последнего проверенного узла\n",
        "                    result += integrate(f,X0,xcur - hc, h = hc,method = method,eps = hc*eps, trace = trace)\n",
        "                    #продолжаем проверку со следующего узла\n",
        "                    X0 = xcur + hc\n",
        "                    continue\n",
        "\n",
        "        xcur += h\n",
        "        i += 1\n",
        "\n",
        "    if(trace):\n",
        "            print(\"integrating...\")\n",
        "\n",
        "    return result + integrate(f,X0,X1,hc,method = method)"
      ]
    },
    {
      "cell_type": "code",
      "execution_count": null,
      "metadata": {
        "id": "yQVtdRxed3QR",
        "outputId": "c1338a01-33f6-4a9b-908b-6ee017429b01"
      },
      "outputs": [
        {
          "data": {
            "image/png": "[encoded data removed]",
            "text/plain": [
              "Graphics object consisting of 1 graphics primitive"
            ]
          },
          "metadata": {},
          "output_type": "display_data"
        }
      ],
      "source": [
        "show(plot(f,xmin = X0, xmax = X1,ymin = 0,ymax = 10))"
      ]
    },
    {
      "cell_type": "code",
      "execution_count": null,
      "metadata": {
        "id": "DqQFMZh_d3QR",
        "outputId": "49c25276-a1b2-4f32-fdc4-87badf78b9e8"
      },
      "outputs": [
        {
          "data": {
            "text/plain": [
              "pi - 1.5707963267948966"
            ]
          },
          "execution_count": 84,
          "metadata": {},
          "output_type": "execute_result"
        }
      ],
      "source": [
        "integral(f,x,X0,X1)"
      ]
    },
    {
      "cell_type": "code",
      "execution_count": null,
      "metadata": {
        "id": "ApphgeU-d3QR",
        "outputId": "a13b7542-d811-46c7-d6f6-700c99fb314b"
      },
      "outputs": [
        {
          "name": "stdout",
          "output_type": "stream",
          "text": [
            "0 -- 0.500000000000000 | checking...\n",
            " |0|\n",
            "  !0 -- 0 (NAN) -- 0.500000000000000 \t|5.00000000000000e-6|\n",
            "0.0000100000000000000 -- 5.00000000000000e-6 (447.214713538139) -- 0.500000000000000 \t|5.00000000000000e-6|\n",
            "0.0000100000000000000 -- 0.0250050000000023 (6.40450215747031) -- 0.500000000000000 \t|5.00000000000000e-6|\n",
            "0.0000100000000000000 -- 0.0500049999999970 (4.58809735283853) -- 0.500000000000000 \t|5.00000000000000e-6|\n",
            "0.0000100000000000000 -- 0.0750050000000046 (3.79651569580492) -- 0.500000000000000 \t|5.00000000000000e-6|\n",
            "0.0000100000000000000 -- 0.100005000000030 (3.33325926219080) -- 0.500000000000000 \t|5.00000000000000e-6|\n",
            "0.0000100000000000000 -- 0.125005000000055 (3.02366395062394) -- 0.500000000000000 \t|5.00000000000000e-6|\n",
            "0.0000100000000000000 -- 0.150005000000080 (2.80052173006020) -- 0.500000000000000 \t|5.00000000000000e-6|\n",
            "0.0000100000000000000 -- 0.175005000000105 (2.63177715849876) -- 0.500000000000000 \t|5.00000000000000e-6|\n",
            "0.0000100000000000000 -- 0.200005000000130 (2.49997656302428) -- 0.500000000000000 \t|5.00000000000000e-6|\n",
            "0.0000100000000000000 -- 0.225005000000155 (2.39471847751776) -- 0.500000000000000 \t|5.00000000000000e-6|\n",
            "0.0000100000000000000 -- 0.250005000000180 (2.30938568105869) -- 0.500000000000000 \t|5.00000000000000e-6|\n",
            "0.0000100000000000000 -- 0.275005000000066 (2.23955740699827) -- 0.500000000000000 \t|5.00000000000000e-6|\n",
            "0.0000100000000000000 -- 0.300004999999952 (2.18216851123603) -- 0.500000000000000 \t|5.00000000000000e-6|\n",
            "0.0000100000000000000 -- 0.325004999999838 (2.13503353507013) -- 0.500000000000000 \t|5.00000000000000e-6|\n",
            "0.0000100000000000000 -- 0.350004999999725 (2.09656276182544) -- 0.500000000000000 \t|5.00000000000000e-6|\n",
            "0.0000100000000000000 -- 0.375004999999611 (2.06558560986693) -- 0.500000000000000 \t|5.00000000000000e-6|\n",
            "0.0000100000000000000 -- 0.400004999999497 (2.04123719985299) -- 0.500000000000000 \t|5.00000000000000e-6|\n",
            "0.0000100000000000000 -- 0.425004999999383 (2.02288384563335) -- 0.500000000000000 \t|5.00000000000000e-6|\n",
            "0.0000100000000000000 -- 0.450004999999269 (2.01007360024389) -- 0.500000000000000 \t|5.00000000000000e-6|\n",
            "0.0000100000000000000 -- 0.475004999999156 (2.00250369362658) -- 0.500000000000000 \t|5.00000000000000e-6|\n",
            "integrating...\n"
          ]
        },
        {
          "data": {
            "text/plain": [
              "1.56459713033287"
            ]
          },
          "execution_count": 85,
          "metadata": {},
          "output_type": "execute_result"
        }
      ],
      "source": [
        "Improper_integral_SP_exclusion(f,X0,X1,h = 0.00001,trace = true,method = \"trap\")"
      ]
    },
    {
      "cell_type": "markdown",
      "metadata": {
        "id": "FozDXYOed3QR"
      },
      "source": [
        "Этот метод дает довольно большую ошибку, но при этом исключает возможность возникновения экстримальных значений и ошибок деления на ноль"
      ]
    },
    {
      "cell_type": "markdown",
      "metadata": {
        "id": "2KBUz10Nd3QR"
      },
      "source": [
        "Попробуем решить ту задачу, что дала неадекватный результат методом трапеций"
      ]
    },
    {
      "cell_type": "code",
      "execution_count": null,
      "metadata": {
        "id": "4zo39gbWd3QR",
        "outputId": "660ef08b-f7c6-487b-ab9d-2c393c376688"
      },
      "outputs": [
        {
          "data": {
            "text/html": [
              "<html><script type=\"math/tex; mode=display\">\\newcommand{\\Bold}[1]{\\mathbf{#1}}\\frac{1}{\\sqrt{-x + 2}}</script></html>"
            ],
            "text/latex": [
              "\\begin{math}\n",
              "\\newcommand{\\Bold}[1]{\\mathbf{#1}}\\frac{1}{\\sqrt{-x + 2}}\n",
              "\\end{math}"
            ],
            "text/plain": [
              "1/sqrt(-x + 2)"
            ]
          },
          "metadata": {},
          "output_type": "display_data"
        },
        {
          "data": {
            "image/png": "[encoded data removed]",
            "text/plain": [
              "Graphics object consisting of 1 graphics primitive"
            ]
          },
          "metadata": {},
          "output_type": "display_data"
        },
        {
          "data": {
            "text/html": [
              "<html><script type=\"math/tex; mode=display\">\\newcommand{\\Bold}[1]{\\mathbf{#1}}2.00000000000000</script></html>"
            ],
            "text/latex": [
              "\\begin{math}\n",
              "\\newcommand{\\Bold}[1]{\\mathbf{#1}}2.00000000000000\n",
              "\\end{math}"
            ],
            "text/plain": [
              "2.00000000000000"
            ]
          },
          "metadata": {},
          "output_type": "display_data"
        }
      ],
      "source": [
        "func = 1/(sqrt(2-x))\n",
        "X0 = 1\n",
        "X1 = 2\n",
        "h = 0.01\n",
        "show(func)\n",
        "show(plot(func,xmin = 1,xmax = 2,ymax = 5))\n",
        "#интеграл,вычисленный непосредственно\n",
        "show(integral(func,x,1,2).n())"
      ]
    },
    {
      "cell_type": "code",
      "execution_count": null,
      "metadata": {
        "id": "2985vOaBd3QS",
        "outputId": "eff50f74-1be2-48f0-b36d-52506903e69d"
      },
      "outputs": [
        {
          "name": "stdout",
          "output_type": "stream",
          "text": [
            "1 -- 2 | checking...\n",
            "1 -- 1 (1) -- 2 \t|0.0000500000000000000|\n",
            "1 -- 1.05000000000011 (1.02597835208521) -- 2 \t|0.0000500000000000000|\n",
            "1 -- 1.10000000000021 (1.05409255338958) -- 2 \t|0.0000500000000000000|\n",
            "1 -- 1.15000000000032 (1.08465228909348) -- 2 \t|0.0000500000000000000|\n",
            "1 -- 1.20000000000042 (1.11803398875019) -- 2 \t|0.0000500000000000000|\n",
            "1 -- 1.25000000000053 (1.15470053837966) -- 2 \t|0.0000500000000000000|\n",
            "1 -- 1.30000000000063 (1.19522860933493) -- 2 \t|0.0000500000000000000|\n",
            "1 -- 1.35000000000074 (1.24034734589279) -- 2 \t|0.0000500000000000000|\n",
            "1 -- 1.40000000000084 (1.29099444873671) -- 2 \t|0.0000500000000000000|\n",
            "1 -- 1.45000000000095 (1.34839972492765) -- 2 \t|0.0000500000000000000|\n",
            "1 -- 1.50000000000106 (1.41421356237459) -- 2 \t|0.0000500000000000000|\n",
            "1 -- 1.55000000000116 (1.49071198500178) -- 2 \t|0.0000500000000000000|\n",
            "1 -- 1.60000000000127 (1.58113883008669) -- 2 \t|0.0000500000000000000|\n",
            "1 -- 1.65000000000137 (1.69030850946035) -- 2 \t|0.0000500000000000000|\n",
            "1 -- 1.70000000000148 (1.82574185835505) -- 2 \t|0.0000500000000000000|\n",
            "1 -- 1.75000000000158 (2.00000000000633) -- 2 \t|0.0000500000000000000|\n",
            "1 -- 1.80000000000169 (2.23606797750923) -- 2 \t|0.0000500000000000000|\n",
            "1 -- 1.85000000000179 (2.58198889748705) -- 2 \t|0.0000500000000000000|\n",
            "1 -- 1.90000000000190 (3.16227766019841) -- 2 \t|0.0000500000000000000|\n",
            "1 -- 1.95000000000200 (4.47213595508924) -- 2 \t|0.0000500000000000000|\n",
            "1 -- 2.00000000000211 (4.21509657505623e-11 - 688377.510640772*I) -- 2 \t|0.0000500000000000000|\n",
            " |complex|\n",
            "  !1 -- 2.00000000000211 (4.21509657505623e-11 - 688377.510640772*I) -- 2 \t|0.0000500000000000000|\n",
            "integrating ps...\n"
          ]
        },
        {
          "data": {
            "text/plain": [
              "1.98039645448383"
            ]
          },
          "execution_count": 44,
          "metadata": {},
          "output_type": "execute_result"
        }
      ],
      "source": [
        "Improper_integral_SP_exclusion(func,1,2,0.0001,method = \"trap\",trace = true)"
      ]
    },
    {
      "cell_type": "code",
      "execution_count": null,
      "metadata": {
        "id": "bmynkGPWd3QS",
        "outputId": "d8474a01-b409-4200-de9b-38c5b338b201"
      },
      "outputs": [
        {
          "data": {
            "text/html": [
              "<html><script type=\"math/tex; mode=display\">\\newcommand{\\Bold}[1]{\\mathbf{#1}}\\verb|Метод|\\phantom{\\verb!x!}\\verb|исключения|\\phantom{\\verb!x!}\\verb|особенности|</script></html>"
            ],
            "text/latex": [
              "\\begin{math}\n",
              "\\newcommand{\\Bold}[1]{\\mathbf{#1}}\\verb|Метод|\\phantom{\\verb!x!}\\verb|исключения|\\phantom{\\verb!x!}\\verb|особенности|\n",
              "\\end{math}"
            ],
            "text/plain": [
              "'Метод исключения особенности'"
            ]
          },
          "metadata": {},
          "output_type": "display_data"
        },
        {
          "data": {
            "text/html": [
              "<html><script type=\"math/tex; mode=display\">\\newcommand{\\Bold}[1]{\\mathbf{#1}}\\begin{array}{l}\n",
              "\\verb|Результат:|\\phantom{\\verb!x!}\\verb|1.37440494673634|\\\\\n",
              "\\verb|\t|\\phantom{\\verb!x!}\\verb|Шаг|\\phantom{\\verb!x!}\\verb|интегрирования:|\\phantom{\\verb!x!}\\verb|0.010|\\\\\n",
              "\\verb\"\t\"\\phantom{\\verb!x!}\\verb\"Ошибка\"\\phantom{\\verb!x!}\\verb\"(Рунге\"\\phantom{\\verb!x!}\\verb\"Ромберг\"\\phantom{\\verb!x!}\\verb\"|\"\\phantom{\\verb!x!}\\verb\"0.01):\"\\phantom{\\verb!x!}\\verb\"0.177979732200823\"\\\\\n",
              "\\verb|\t|\\phantom{\\verb!x!}\\verb|Ошибка|\\phantom{\\verb!x!}\\verb|(Истинная)|\\phantom{\\verb!x!}\\verb|0.196391380058554|\n",
              "\\end{array}</script></html>"
            ],
            "text/latex": [
              "\\begin{math}\n",
              "\\newcommand{\\Bold}[1]{\\mathbf{#1}}\\begin{array}{l}\n",
              "\\verb|Результат:|\\phantom{\\verb!x!}\\verb|1.37440494673634|\\\\\n",
              "\\verb|\t|\\phantom{\\verb!x!}\\verb|Шаг|\\phantom{\\verb!x!}\\verb|интегрирования:|\\phantom{\\verb!x!}\\verb|0.010|\\\\\n",
              "\\verb\"\t\"\\phantom{\\verb!x!}\\verb\"Ошибка\"\\phantom{\\verb!x!}\\verb\"(Рунге\"\\phantom{\\verb!x!}\\verb\"Ромберг\"\\phantom{\\verb!x!}\\verb\"|\"\\phantom{\\verb!x!}\\verb\"0.01):\"\\phantom{\\verb!x!}\\verb\"0.177979732200823\"\\\\\n",
              "\\verb|\t|\\phantom{\\verb!x!}\\verb|Ошибка|\\phantom{\\verb!x!}\\verb|(Истинная)|\\phantom{\\verb!x!}\\verb|0.196391380058554|\n",
              "\\end{array}\n",
              "\\end{math}"
            ],
            "text/plain": [
              "'Результат: 1.37440494673634\\n\\t Шаг интегрирования: 0.010\\n\\t Ошибка (Рунге Ромберг | 0.01): 0.177979732200823\\n\\t Ошибка (Истинная) 0.196391380058554'"
            ]
          },
          "metadata": {},
          "output_type": "display_data"
        }
      ],
      "source": [
        "h = 0.01\n",
        "show(\"Метод исключения особенности\")\n",
        "show(\"Результат: {}\\n\\t Шаг интегрирования: {}\\n\\t Ошибка (Рунге Ромберг | 0.01): {}\\n\\t Ошибка (Истинная) {}\".\n",
        "     format(Improper_integral_SP_exclusion(f,X0,X1,h = h,method = \"trap\"),\n",
        "            h.n(digits = 2),\n",
        "            abs(runge_rumbert_error_h(Improper_integral_SP_exclusion(f,X0,X1,h = h,method = \"trap\"),Improper_integral_SP_exclusion(f,X0,X1,h = h*0.01,method = \"rect\"),0.01,1)),\n",
        "            abs(Improper_integral_SP_exclusion(f,X0,X1,h = h,method = \"trap\") - integral(f,x,X0,X1).n(digits = 50))))"
      ]
    },
    {
      "cell_type": "markdown",
      "metadata": {
        "id": "l5jCujvXd3QS"
      },
      "source": [
        "##### Модифицированный метод исключения особенности"
      ]
    },
    {
      "cell_type": "code",
      "execution_count": null,
      "metadata": {
        "id": "PncuVu48d3QS"
      },
      "outputs": [],
      "source": [
        "def Improper_integral_SP_exclusion_mod(#функция обнаруживает точечнык особенности, и при интегрировании пропускает их\n",
        "                                   f,X0,X1,h,\n",
        "                                   trace = false,\n",
        "                                   method = \"rect\",\n",
        "                                   eps = 1e-4):\n",
        "                                   #без сдвига сетки\n",
        "    hc = h #с шагом h будем вычислять производную\n",
        "    h /= 2 #проверять надо точки, из которых будем брать занчения f\n",
        "    hsub = hc*eps #шаг для вспомогательного интегрирования\n",
        "    infpos = 1/(hc*eps)\n",
        "    infneg = -1/(hc*eps)\n",
        "    xcur = X0\n",
        "    repmark = (X1-X0)/(hc*10)\n",
        "    if(trace):\n",
        "            print(\"{} -- {} | checking...\".format(X0,X1))\n",
        "\n",
        "    i = 0\n",
        "    while (xcur < X1 + h*eps):\n",
        "\n",
        "        try:\n",
        "            f(x = xcur)\n",
        "            if(trace and i % (repmark) == 0):\n",
        "                print(\"{} -- {} ({}) -- {} \\t|{}|\".format(X0,xcur,f(x = xcur),X1,h))\n",
        "        except(BaseException): #проверка на деление на 0\n",
        "            if(trace):\n",
        "                print(\" |0|\")\n",
        "                print(\"  !{} -- {} (NAN) -- {} \\t|{}|\".format(X0,xcur,X1,h))\n",
        "            if(xcur - h*eps < X0):\n",
        "                return (Improper_integral_SP_exclusion(f,X0 + hc,X1, h = hc,method = method,eps = eps, trace = trace) +\n",
        "                        Improper_integral_SP_exclusion_mod(f,X0 + hsub,xcur + hc,hsub,method = method,eps = eps, trace = trace))\n",
        "            if(xcur + h*eps > X1):\n",
        "                return (integrate(f,X0,X1 - hc, h = hc,method = method,eps = hc*eps, trace = trace) +\n",
        "                        Improper_integral_SP_exclusion_mod(f,X1 - hc,xcur - hsub,hsub,method = method,eps = eps, trace = trace))\n",
        "\n",
        "            return (integrate(f,X0,xcur - hc, h = hc,method = method,eps = hc*eps, trace = trace) + #эта часть сетки уже проверена\n",
        "                    Improper_integral_SP_exclusion(f,xcur + hc,X1, h = hc,method = method,eps = eps, trace = trace) +\n",
        "                        Improper_integral_SP_exclusion_mod(f,xcur - hc,xcur - hsub,hsub,method = method,eps = eps, trace = trace)+\n",
        "                        Improper_integral_SP_exclusion_mod(f,xcur + hsub,xcur + hc,hsub,method = method,eps = eps, trace = trace))\n",
        "\n",
        "        if (f(x = xcur) > infpos or f(x = xcur) < infneg): #проверка на сверхбольшие значения\n",
        "            if(trace):\n",
        "                print(\" |inf|\")\n",
        "                print(\"  !{} -- {} ({}) -- {} \\t|{}|\".format(X0,xcur,f(x = xcur),X1,h))\n",
        "            if(xcur - h*eps < X0):\n",
        "                return (Improper_integral_SP_exclusion(f,X0 + hc,X1, h = hc,method = method,eps = eps, trace = trace)+\n",
        "                        Improper_integral_SP_exclusion_mod(f,X0 + hsub,xcur + hc,hsub,method = method,eps = eps, trace = trace))\n",
        "            if(xcur + h*eps > X1):\n",
        "                return (integrate(f,X0,X1 - hc, h = hc,method = method,eps = hc*eps, trace = trace) +\n",
        "                        Improper_integral_SP_exclusion_mod(f,X1 - hc,xcur - hsub,hsub,method = method,eps = eps, trace = trace))\n",
        "\n",
        "            return (integrate(f,X0,xcur - hc, h = hc,method = method,eps = hc*eps, trace = trace) + #эта часть сетки уже проверена\n",
        "                   Improper_integral_SP_exclusion(f,xcur + hc,X1, h = hc,method = method,eps = eps, trace = trace)+\n",
        "                        Improper_integral_SP_exclusion_mod(f,xcur + hsub,xcur + hc,hsub,method = method,eps = eps, trace = trace) +\n",
        "                        Improper_integral_SP_exclusion_mod(f,xcur - hc,xcur - hsub,hsub,method = method,eps = eps, trace = trace))\n",
        "        if (complex(f(x = xcur)).imag != 0):\n",
        "            if(trace):\n",
        "                print(\" |complex|\")\n",
        "                print(\"  !{} -- {} ({}) -- {} \\t|{}|\".format(X0,xcur,f(x = xcur),X1,h))\n",
        "\n",
        "            if(xcur - h*eps < X0):\n",
        "                return (Improper_integral_SP_exclusion(f,X0 + hc,X1, h = hc,method = method,eps = eps, trace = trace)+\n",
        "                        Improper_integral_SP_exclusion_mod(f,X0 + hsub,xcur + hc,hsub,method = method,eps = eps, trace = trace))\n",
        "            if(xcur + h*eps > X1):\n",
        "                return (integrate(f,X0,X1 - hc, h = hc,method = method,eps = hc*eps, trace = trace) +\n",
        "                        Improper_integral_SP_exclusion_mod(f,X1 - hc,xcur - hsub,hsub,method = method,eps = eps, trace = trace))\n",
        "\n",
        "            return (integrate(f,X0,xcur - hc, h = hc,method = method,eps = hc*eps, trace = trace) + #эта часть сетки уже проверена\n",
        "                   Improper_integral_SP_exclusion(f,xcur + hc,X1, h = hc,method = method,eps = eps, trace = trace)+\n",
        "                        Improper_integral_SP_exclusion_mod(f,xcur + hsub,xcur + hc,hsub,method = method,eps = eps, trace = trace) +\n",
        "                        Improper_integral_SP_exclusion_mod(f,xcur - hc,xcur - hsub,hsub,method = method,eps = eps, trace = trace))\n",
        "\n",
        "        xcur += h\n",
        "        i += 1\n",
        "\n",
        "    if(trace):\n",
        "            print(\"integrating...\")\n",
        "\n",
        "    return integrate(f,X0,X1,hc,method = method,eps = eps*hc)"
      ]
    },
    {
      "cell_type": "code",
      "execution_count": null,
      "metadata": {
        "id": "wH-7-lPnd3QS",
        "outputId": "f1378119-7d2c-4202-9720-4f47d1c73570"
      },
      "outputs": [
        {
          "data": {
            "text/html": [
              "<html><script type=\"math/tex; mode=display\">\\newcommand{\\Bold}[1]{\\mathbf{#1}}\\frac{1}{\\sqrt{-x + 2}}</script></html>"
            ],
            "text/latex": [
              "\\begin{math}\n",
              "\\newcommand{\\Bold}[1]{\\mathbf{#1}}\\frac{1}{\\sqrt{-x + 2}}\n",
              "\\end{math}"
            ],
            "text/plain": [
              "1/sqrt(-x + 2)"
            ]
          },
          "metadata": {},
          "output_type": "display_data"
        },
        {
          "data": {
            "image/png": "[encoded data removed]",
            "text/plain": [
              "Graphics object consisting of 1 graphics primitive"
            ]
          },
          "metadata": {},
          "output_type": "display_data"
        },
        {
          "data": {
            "text/html": [
              "<html><script type=\"math/tex; mode=display\">\\newcommand{\\Bold}[1]{\\mathbf{#1}}2.00000000000000</script></html>"
            ],
            "text/latex": [
              "\\begin{math}\n",
              "\\newcommand{\\Bold}[1]{\\mathbf{#1}}2.00000000000000\n",
              "\\end{math}"
            ],
            "text/plain": [
              "2.00000000000000"
            ]
          },
          "metadata": {},
          "output_type": "display_data"
        }
      ],
      "source": [
        "func = 1/(sqrt(2-x))\n",
        "X0 = 1\n",
        "X1 = 2\n",
        "h = 0.1\n",
        "show(func)\n",
        "show(plot(func,xmin = 1,xmax = 2,ymax = 5))\n",
        "#интеграл,вычисленный непосредственно\n",
        "show(integral(func,x,1,2).n())"
      ]
    },
    {
      "cell_type": "code",
      "execution_count": null,
      "metadata": {
        "id": "7RqrG4xPd3QS",
        "outputId": "7625bd25-2efb-41a2-c7d1-445882c8a234"
      },
      "outputs": [
        {
          "data": {
            "text/html": [
              "<html><script type=\"math/tex; mode=display\">\\newcommand{\\Bold}[1]{\\mathbf{#1}}\\verb|Метод|\\phantom{\\verb!x!}\\verb|исключения|\\phantom{\\verb!x!}\\verb|особенности|\\phantom{\\verb!x!}\\verb|с|\\phantom{\\verb!x!}\\verb|дополнительным|\\phantom{\\verb!x!}\\verb|интегрированием|</script></html>"
            ],
            "text/latex": [
              "\\begin{math}\n",
              "\\newcommand{\\Bold}[1]{\\mathbf{#1}}\\verb|Метод|\\phantom{\\verb!x!}\\verb|исключения|\\phantom{\\verb!x!}\\verb|особенности|\\phantom{\\verb!x!}\\verb|с|\\phantom{\\verb!x!}\\verb|дополнительным|\\phantom{\\verb!x!}\\verb|интегрированием|\n",
              "\\end{math}"
            ],
            "text/plain": [
              "'Метод исключения особенности с дополнительным интегрированием'"
            ]
          },
          "metadata": {},
          "output_type": "display_data"
        },
        {
          "data": {
            "text/html": [
              "<html><script type=\"math/tex; mode=display\">\\newcommand{\\Bold}[1]{\\mathbf{#1}}\\begin{array}{l}\n",
              "\\verb|Результат:|\\phantom{\\verb!x!}\\verb|1.98777930310592|\\\\\n",
              "\\verb|\t|\\phantom{\\verb!x!}\\verb|Шаг|\\phantom{\\verb!x!}\\verb|интегрирования:|\\phantom{\\verb!x!}\\verb|0.10|\\\\\n",
              "\\verb\"\t\"\\phantom{\\verb!x!}\\verb\"Ошибка\"\\phantom{\\verb!x!}\\verb\"(Рунге\"\\phantom{\\verb!x!}\\verb\"Ромберг\"\\phantom{\\verb!x!}\\verb\"|\"\\phantom{\\verb!x!}\\verb\"0.01):\"\\phantom{\\verb!x!}\\verb\"0.00697763328108115\"\\\\\n",
              "\\verb|\t|\\phantom{\\verb!x!}\\verb|Ошибка|\\phantom{\\verb!x!}\\verb|(Истинная)|\\phantom{\\verb!x!}\\verb|0.0122206968940812|\n",
              "\\end{array}</script></html>"
            ],
            "text/latex": [
              "\\begin{math}\n",
              "\\newcommand{\\Bold}[1]{\\mathbf{#1}}\\begin{array}{l}\n",
              "\\verb|Результат:|\\phantom{\\verb!x!}\\verb|1.98777930310592|\\\\\n",
              "\\verb|\t|\\phantom{\\verb!x!}\\verb|Шаг|\\phantom{\\verb!x!}\\verb|интегрирования:|\\phantom{\\verb!x!}\\verb|0.10|\\\\\n",
              "\\verb\"\t\"\\phantom{\\verb!x!}\\verb\"Ошибка\"\\phantom{\\verb!x!}\\verb\"(Рунге\"\\phantom{\\verb!x!}\\verb\"Ромберг\"\\phantom{\\verb!x!}\\verb\"|\"\\phantom{\\verb!x!}\\verb\"0.01):\"\\phantom{\\verb!x!}\\verb\"0.00697763328108115\"\\\\\n",
              "\\verb|\t|\\phantom{\\verb!x!}\\verb|Ошибка|\\phantom{\\verb!x!}\\verb|(Истинная)|\\phantom{\\verb!x!}\\verb|0.0122206968940812|\n",
              "\\end{array}\n",
              "\\end{math}"
            ],
            "text/plain": [
              "'Результат: 1.98777930310592\\n\\t Шаг интегрирования: 0.10\\n\\t Ошибка (Рунге Ромберг | 0.01): 0.00697763328108115\\n\\t Ошибка (Истинная) 0.0122206968940812'"
            ]
          },
          "metadata": {},
          "output_type": "display_data"
        }
      ],
      "source": [
        "show(\"Метод исключения особенности с дополнительным интегрированием\")\n",
        "show(\"Результат: {}\\n\\t Шаг интегрирования: {}\\n\\t Ошибка (Рунге Ромберг | 0.01): {}\\n\\t Ошибка (Истинная) {}\".\n",
        "     format(Improper_integral_SP_exclusion_mod(func,X0,X1,h = h,method = \"rect\"),\n",
        "            h.n(digits = 2),\n",
        "            abs(runge_rumbert_error_h(Improper_integral_SP_exclusion_mod(func,X0,X1,h = h,method = \"rect\"),Improper_integral_SP_exclusion_mod(func,X0,X1,h = h*0.01,method = \"rect\"),0.01,1)),\n",
        "            abs(Improper_integral_SP_exclusion_mod(func,X0,X1,h = h,method = \"rect\") - integral(func,x,X0,X1).n(digits = 50))))"
      ]
    },
    {
      "cell_type": "code",
      "execution_count": null,
      "metadata": {
        "scrolled": false,
        "id": "XkwR2kQ4d3QS",
        "outputId": "c1e509dc-b8cc-4426-fc4f-592c0ad49c8b"
      },
      "outputs": [
        {
          "name": "stdout",
          "output_type": "stream",
          "text": [
            "1 -- 2 | checking...\n",
            "1 -- 1 (1) -- 2 \t|0.0000500000000000000|\n",
            "1 -- 1.05000000000011 (1.02597835208521) -- 2 \t|0.0000500000000000000|\n",
            "1 -- 1.10000000000021 (1.05409255338958) -- 2 \t|0.0000500000000000000|\n",
            "1 -- 1.15000000000032 (1.08465228909348) -- 2 \t|0.0000500000000000000|\n",
            "1 -- 1.20000000000042 (1.11803398875019) -- 2 \t|0.0000500000000000000|\n",
            "1 -- 1.25000000000053 (1.15470053837966) -- 2 \t|0.0000500000000000000|\n",
            "1 -- 1.30000000000063 (1.19522860933493) -- 2 \t|0.0000500000000000000|\n",
            "1 -- 1.35000000000074 (1.24034734589279) -- 2 \t|0.0000500000000000000|\n",
            "1 -- 1.40000000000084 (1.29099444873671) -- 2 \t|0.0000500000000000000|\n",
            "1 -- 1.45000000000095 (1.34839972492765) -- 2 \t|0.0000500000000000000|\n",
            "1 -- 1.50000000000106 (1.41421356237459) -- 2 \t|0.0000500000000000000|\n",
            "1 -- 1.55000000000116 (1.49071198500178) -- 2 \t|0.0000500000000000000|\n",
            "1 -- 1.60000000000127 (1.58113883008669) -- 2 \t|0.0000500000000000000|\n",
            "1 -- 1.65000000000137 (1.69030850946035) -- 2 \t|0.0000500000000000000|\n",
            "1 -- 1.70000000000148 (1.82574185835505) -- 2 \t|0.0000500000000000000|\n",
            "1 -- 1.75000000000158 (2.00000000000633) -- 2 \t|0.0000500000000000000|\n",
            "1 -- 1.80000000000169 (2.23606797750923) -- 2 \t|0.0000500000000000000|\n",
            "1 -- 1.85000000000179 (2.58198889748705) -- 2 \t|0.0000500000000000000|\n",
            "1 -- 1.90000000000190 (3.16227766019841) -- 2 \t|0.0000500000000000000|\n",
            "1 -- 1.95000000000200 (4.47213595508924) -- 2 \t|0.0000500000000000000|\n",
            "1 -- 2.00000000000211 (4.21509657505623e-11 - 688377.510640772*I) -- 2 \t|0.0000500000000000000|\n",
            " |complex|\n",
            "  !1 -- 2.00000000000211 (4.21509657505623e-11 - 688377.510640772*I) -- 2 \t|0.0000500000000000000|\n",
            "1.99990000000000 -- 1.99999999000211 | checking...\n",
            "1.99990000000000 -- 1.99990000000000 (100.000000000006) -- 1.99999999000211 \t|5.00000000000000e-9|\n",
            "1.99990000000000 -- 1.99990499999997 (102.597835192113) -- 1.99999999000211 \t|5.00000000000000e-9|\n",
            "1.99990000000000 -- 1.99990999999994 (105.409255303362) -- 1.99999999000211 \t|5.00000000000000e-9|\n",
            "1.99990000000000 -- 1.99991499999991 (108.465228851171) -- 1.99999999000211 \t|5.00000000000000e-9|\n",
            "1.99990000000000 -- 1.99991999999988 (111.803398790062) -- 1.99999999000211 \t|5.00000000000000e-9|\n",
            "1.99990000000000 -- 1.99992499999985 (115.470053720973) -- 1.99999999000211 \t|5.00000000000000e-9|\n",
            "1.99990000000000 -- 1.99992999999982 (119.522860777792) -- 1.99999999000211 \t|5.00000000000000e-9|\n",
            "1.99990000000000 -- 1.99993499999979 (124.034734386268) -- 1.99999999000211 \t|5.00000000000000e-9|\n",
            "1.99990000000000 -- 1.99993999999976 (129.099444612060) -- 1.99999999000211 \t|5.00000000000000e-9|\n",
            "1.99990000000000 -- 1.99994499999973 (134.839972157418) -- 1.99999999000211 \t|5.00000000000000e-9|\n",
            "1.99990000000000 -- 1.99994999999970 (141.421355807583) -- 1.99999999000211 \t|5.00000000000000e-9|\n",
            "1.99990000000000 -- 1.99995499999967 (149.071197946352) -- 1.99999999000211 \t|5.00000000000000e-9|\n",
            "1.99990000000000 -- 1.99995999999964 (158.113882287741) -- 1.99999999000211 \t|5.00000000000000e-9|\n",
            "1.99990000000000 -- 1.99996499999960 (169.030849991827) -- 1.99999999000211 \t|5.00000000000000e-9|\n",
            "1.99990000000000 -- 1.99996999999957 (182.574184540568) -- 1.99999999000211 \t|5.00000000000000e-9|\n",
            "1.99990000000000 -- 1.99997499999954 (199.999998176803) -- 1.99999999000211 \t|5.00000000000000e-9|\n",
            "1.99990000000000 -- 1.99997999999951 (223.606795032113) -- 1.99999999000211 \t|5.00000000000000e-9|\n",
            "1.99990000000000 -- 1.99998499999948 (258.198885301200) -- 1.99999999000211 \t|5.00000000000000e-9|\n",
            "1.99990000000000 -- 1.99998999999945 (316.227757368620) -- 1.99999999000211 \t|5.00000000000000e-9|\n",
            "1.99990000000000 -- 1.99999499999942 (447.213569680140) -- 1.99999999000211 \t|5.00000000000000e-9|\n",
            "integrating...\n"
          ]
        },
        {
          "data": {
            "text/plain": [
              "2.00020041273101"
            ]
          },
          "execution_count": 123,
          "metadata": {},
          "output_type": "execute_result"
        }
      ],
      "source": [
        "Improper_integral_SP_exclusion_mod(func,1,2,0.0001,method = \"trap\",trace = true)"
      ]
    },
    {
      "cell_type": "code",
      "execution_count": null,
      "metadata": {
        "id": "WIprYGO8d3QS",
        "outputId": "a5102db2-d794-4f07-d0e3-547d34bea118"
      },
      "outputs": [
        {
          "name": "stdout",
          "output_type": "stream",
          "text": [
            "0 -- 0.500000000000000 | checking...\n",
            " |0|\n",
            "  !0 -- 0 (NAN) -- 0.500000000000000 \t|5.00000000000000e-6|\n",
            "0.0000100000000000000 -- 0.500000000000000 | checking...\n",
            "0.0000100000000000000 -- 0.0000100000000000000 (316.229347167527) -- 0.500000000000000 \t|5.00000000000000e-6|\n",
            "integrating...\n",
            "1.00000000000000e-9 -- 0.0000100000000000000 | checking...\n",
            "1.00000000000000e-9 -- 1.00000000000000e-9 (31622.7766174952) -- 0.0000100000000000000 \t|5.00000000000000e-10|\n",
            "integrating...\n"
          ]
        },
        {
          "data": {
            "text/plain": [
              "1.57085970434016"
            ]
          },
          "execution_count": 105,
          "metadata": {},
          "output_type": "execute_result"
        }
      ],
      "source": [
        "Improper_integral_SP_exclusion_mod(f,X0,X1,0.00001,method = \"trap\",trace = true)"
      ]
    },
    {
      "cell_type": "code",
      "execution_count": null,
      "metadata": {
        "id": "PlOIbxkUd3QT",
        "outputId": "41391a2e-ac86-465c-cefa-d577a52209bd"
      },
      "outputs": [
        {
          "data": {
            "text/html": [
              "<html><script type=\"math/tex; mode=display\">\\newcommand{\\Bold}[1]{\\mathbf{#1}}1.57079632679490</script></html>"
            ],
            "text/latex": [
              "\\begin{math}\n",
              "\\newcommand{\\Bold}[1]{\\mathbf{#1}}1.57079632679490\n",
              "\\end{math}"
            ],
            "text/plain": [
              "1.57079632679490"
            ]
          },
          "metadata": {},
          "output_type": "display_data"
        }
      ],
      "source": [
        "show(integral(f,x,X0,X1).n())"
      ]
    },
    {
      "cell_type": "code",
      "execution_count": null,
      "metadata": {
        "id": "uUqq6r-Pd3QT",
        "outputId": "19033fc3-9efd-47dd-b31f-587888899a0f"
      },
      "outputs": [
        {
          "data": {
            "text/html": [
              "<html><script type=\"math/tex; mode=display\">\\newcommand{\\Bold}[1]{\\mathbf{#1}}\\verb|Необходимо|\\phantom{\\verb!x!}\\verb|рассчитать|\\phantom{\\verb!x!}\\verb|интеграл|\\phantom{\\verb!x!}\\verb|этой|\\phantom{\\verb!x!}\\verb|функции:|</script></html>"
            ],
            "text/latex": [
              "\\begin{math}\n",
              "\\newcommand{\\Bold}[1]{\\mathbf{#1}}\\verb|Необходимо|\\phantom{\\verb!x!}\\verb|рассчитать|\\phantom{\\verb!x!}\\verb|интеграл|\\phantom{\\verb!x!}\\verb|этой|\\phantom{\\verb!x!}\\verb|функции:|\n",
              "\\end{math}"
            ],
            "text/plain": [
              "'Необходимо рассчитать интеграл этой функции:'"
            ]
          },
          "metadata": {},
          "output_type": "display_data"
        },
        {
          "data": {
            "text/html": [
              "<html><script type=\"math/tex; mode=display\">\\newcommand{\\Bold}[1]{\\mathbf{#1}}\\frac{1}{\\sqrt{x} \\sqrt{-x + 1}}</script></html>"
            ],
            "text/latex": [
              "\\begin{math}\n",
              "\\newcommand{\\Bold}[1]{\\mathbf{#1}}\\frac{1}{\\sqrt{x} \\sqrt{-x + 1}}\n",
              "\\end{math}"
            ],
            "text/plain": [
              "1/(sqrt(x)*sqrt(-x + 1))"
            ]
          },
          "metadata": {},
          "output_type": "display_data"
        },
        {
          "data": {
            "text/html": [
              "<html><script type=\"math/tex; mode=display\">\\newcommand{\\Bold}[1]{\\mathbf{#1}}\\verb|От|\\phantom{\\verb!x!}\\verb|0.00000|\\phantom{\\verb!x!}\\verb|до|\\phantom{\\verb!x!}\\verb|0.50000|</script></html>"
            ],
            "text/latex": [
              "\\begin{math}\n",
              "\\newcommand{\\Bold}[1]{\\mathbf{#1}}\\verb|От|\\phantom{\\verb!x!}\\verb|0.00000|\\phantom{\\verb!x!}\\verb|до|\\phantom{\\verb!x!}\\verb|0.50000|\n",
              "\\end{math}"
            ],
            "text/plain": [
              "'От 0.00000 до 0.50000'"
            ]
          },
          "metadata": {},
          "output_type": "display_data"
        },
        {
          "data": {
            "text/html": [
              "<html><script type=\"math/tex; mode=display\">\\newcommand{\\Bold}[1]{\\mathbf{#1}}\\verb|Ее|\\phantom{\\verb!x!}\\verb|график:|</script></html>"
            ],
            "text/latex": [
              "\\begin{math}\n",
              "\\newcommand{\\Bold}[1]{\\mathbf{#1}}\\verb|Ее|\\phantom{\\verb!x!}\\verb|график:|\n",
              "\\end{math}"
            ],
            "text/plain": [
              "'Ее график:'"
            ]
          },
          "metadata": {},
          "output_type": "display_data"
        },
        {
          "data": {
            "image/png": "[encoded data removed]",
            "text/plain": [
              "Graphics object consisting of 1 graphics primitive"
            ]
          },
          "metadata": {},
          "output_type": "display_data"
        },
        {
          "data": {
            "text/html": [
              "<html><script type=\"math/tex; mode=display\">\\newcommand{\\Bold}[1]{\\mathbf{#1}}\\verb|Ее|\\phantom{\\verb!x!}\\verb|производная|</script></html>"
            ],
            "text/latex": [
              "\\begin{math}\n",
              "\\newcommand{\\Bold}[1]{\\mathbf{#1}}\\verb|Ее|\\phantom{\\verb!x!}\\verb|производная|\n",
              "\\end{math}"
            ],
            "text/plain": [
              "'Ее производная'"
            ]
          },
          "metadata": {},
          "output_type": "display_data"
        },
        {
          "data": {
            "text/html": [
              "<html><script type=\"math/tex; mode=display\">\\newcommand{\\Bold}[1]{\\mathbf{#1}}1.57079632679490</script></html>"
            ],
            "text/latex": [
              "\\begin{math}\n",
              "\\newcommand{\\Bold}[1]{\\mathbf{#1}}1.57079632679490\n",
              "\\end{math}"
            ],
            "text/plain": [
              "1.57079632679490"
            ]
          },
          "metadata": {},
          "output_type": "display_data"
        },
        {
          "name": "stdout",
          "output_type": "stream",
          "text": [
            "0 -- 0.500000000000000 | checking...\n",
            " |0|\n",
            "  !0 -- 0 (NAN) -- 0.500000000000000 \t|0.0000500000000000000|\n",
            "0.000100000000000000 -- 0.500000000000000 | checking...\n",
            "0.000100000000000000 -- 0.000100000000000000 (100.005000375031) -- 0.500000000000000 \t|0.0000500000000000000|\n",
            "0.000100000000000000 -- 0.0501000000000009 (4.58397450192027) -- 0.500000000000000 \t|0.0000500000000000000|\n",
            "0.000100000000000000 -- 0.100099999999997 (3.33185302371375) -- 0.500000000000000 \t|0.0000500000000000000|\n",
            "0.000100000000000000 -- 0.150099999999992 (2.79979181298121) -- 0.500000000000000 \t|0.0000500000000000000|\n",
            "0.000100000000000000 -- 0.200099999999986 (2.49953145987590) -- 0.500000000000000 \t|0.0000500000000000000|\n",
            "0.000100000000000000 -- 0.250099999999981 (2.30909327974475) -- 0.500000000000000 \t|0.0000500000000000000|\n",
            "0.000100000000000000 -- 0.300099999999975 (2.18197115742444) -- 0.500000000000000 \t|0.0000500000000000000|\n",
            "0.000100000000000000 -- 0.350099999999970 (2.09643149782026) -- 0.500000000000000 \t|0.0000500000000000000|\n",
            "0.000100000000000000 -- 0.400099999999964 (2.04115644842808) -- 0.500000000000000 \t|0.0000500000000000000|\n",
            "0.000100000000000000 -- 0.450099999999959 (2.01003506476557) -- 0.500000000000000 \t|0.0000500000000000000|\n",
            "0.000100000000000000 -- 0.500099999999953 (2.00000004000000) -- 0.500000000000000 \t|0.0000500000000000000|\n",
            "integrating...\n",
            "1.00000000000000e-8 -- 0.000100000000000000 | checking...\n",
            "1.00000000000000e-8 -- 1.00000000000000e-8 (10000.0000500000) -- 0.000100000000000000 \t|5.00000000000000e-9|\n",
            "1.00000000000000e-8 -- 0.0000500099999999935 (141.410752242731) -- 0.000100000000000000 \t|5.00000000000000e-9|\n",
            "integrating...\n"
          ]
        },
        {
          "data": {
            "text/plain": [
              "1.57099672563692"
            ]
          },
          "execution_count": 235,
          "metadata": {},
          "output_type": "execute_result"
        }
      ],
      "source": [
        "a = 0\n",
        "al = (-1/2)\n",
        "csi =  (1-x)**(-1/2)\n",
        "\n",
        "X0 = 0\n",
        "X1 = 0.5\n",
        "\n",
        "f = ((x - a)**al)*csi(x)\n",
        "\n",
        "show(\"Необходимо рассчитать интеграл этой функции:\")\n",
        "show(f)\n",
        "show(\"От {} до {}\".format(X0.n(digits = 5),X1.n(digits = 5)))\n",
        "\n",
        "show(\"Ее график:\")\n",
        "show(plot(f,xmin = X0, xmax = X1,ymin = 0,ymax = 5))\n",
        "\n",
        "show(\"Ее производная\")\n",
        "show(integral(f,x,X0,X1).n())\n",
        "\n",
        "Improper_integral_SP_exclusion_mod(f,X0,X1,0.0001,method = \"trap\",trace = true)"
      ]
    },
    {
      "cell_type": "code",
      "execution_count": null,
      "metadata": {
        "id": "r97Vf2dEd3QT",
        "outputId": "42faf246-0d24-4ad9-a22a-8318400333d6"
      },
      "outputs": [
        {
          "data": {
            "text/html": [
              "<html><script type=\"math/tex; mode=display\">\\newcommand{\\Bold}[1]{\\mathbf{#1}}\\verb|Метод|\\phantom{\\verb!x!}\\verb|исключения|\\phantom{\\verb!x!}\\verb|особенности|\\phantom{\\verb!x!}\\verb|с|\\phantom{\\verb!x!}\\verb|дополнительным|\\phantom{\\verb!x!}\\verb|интегрированием|</script></html>"
            ],
            "text/latex": [
              "\\begin{math}\n",
              "\\newcommand{\\Bold}[1]{\\mathbf{#1}}\\verb|Метод|\\phantom{\\verb!x!}\\verb|исключения|\\phantom{\\verb!x!}\\verb|особенности|\\phantom{\\verb!x!}\\verb|с|\\phantom{\\verb!x!}\\verb|дополнительным|\\phantom{\\verb!x!}\\verb|интегрированием|\n",
              "\\end{math}"
            ],
            "text/plain": [
              "'Метод исключения особенности с дополнительным интегрированием'"
            ]
          },
          "metadata": {},
          "output_type": "display_data"
        },
        {
          "data": {
            "text/html": [
              "<html><script type=\"math/tex; mode=display\">\\newcommand{\\Bold}[1]{\\mathbf{#1}}\\begin{array}{l}\n",
              "\\verb|Результат:|\\phantom{\\verb!x!}\\verb|1.56687645705918|\\\\\n",
              "\\verb|\t|\\phantom{\\verb!x!}\\verb|Шаг|\\phantom{\\verb!x!}\\verb|интегрирования:|\\phantom{\\verb!x!}\\verb|0.010|\\\\\n",
              "\\verb\"\t\"\\phantom{\\verb!x!}\\verb\"Ошибка\"\\phantom{\\verb!x!}\\verb\"(Рунге\"\\phantom{\\verb!x!}\\verb\"Ромберг\"\\phantom{\\verb!x!}\\verb\"|\"\\phantom{\\verb!x!}\\verb\"0.01):\"\\phantom{\\verb!x!}\\verb\"0.00356247139949031\"\\\\\n",
              "\\verb|\t|\\phantom{\\verb!x!}\\verb|Ошибка|\\phantom{\\verb!x!}\\verb|(Истинная)|\\phantom{\\verb!x!}\\verb|0.00391986973571989|\n",
              "\\end{array}</script></html>"
            ],
            "text/latex": [
              "\\begin{math}\n",
              "\\newcommand{\\Bold}[1]{\\mathbf{#1}}\\begin{array}{l}\n",
              "\\verb|Результат:|\\phantom{\\verb!x!}\\verb|1.56687645705918|\\\\\n",
              "\\verb|\t|\\phantom{\\verb!x!}\\verb|Шаг|\\phantom{\\verb!x!}\\verb|интегрирования:|\\phantom{\\verb!x!}\\verb|0.010|\\\\\n",
              "\\verb\"\t\"\\phantom{\\verb!x!}\\verb\"Ошибка\"\\phantom{\\verb!x!}\\verb\"(Рунге\"\\phantom{\\verb!x!}\\verb\"Ромберг\"\\phantom{\\verb!x!}\\verb\"|\"\\phantom{\\verb!x!}\\verb\"0.01):\"\\phantom{\\verb!x!}\\verb\"0.00356247139949031\"\\\\\n",
              "\\verb|\t|\\phantom{\\verb!x!}\\verb|Ошибка|\\phantom{\\verb!x!}\\verb|(Истинная)|\\phantom{\\verb!x!}\\verb|0.00391986973571989|\n",
              "\\end{array}\n",
              "\\end{math}"
            ],
            "text/plain": [
              "'Результат: 1.56687645705918\\n\\t Шаг интегрирования: 0.010\\n\\t Ошибка (Рунге Ромберг | 0.01): 0.00356247139949031\\n\\t Ошибка (Истинная) 0.00391986973571989'"
            ]
          },
          "metadata": {},
          "output_type": "display_data"
        }
      ],
      "source": [
        "a = 0\n",
        "al = (-1/2)\n",
        "csi =  (1-x)**(-1/2)\n",
        "h = 0.01\n",
        "\n",
        "X0 = 0\n",
        "X1 = 0.5\n",
        "\n",
        "f = ((x - a)**al)*csi(x)\n",
        "\n",
        "show(\"Метод исключения особенности с дополнительным интегрированием\")\n",
        "show(\"Результат: {}\\n\\t Шаг интегрирования: {}\\n\\t Ошибка (Рунге Ромберг | 0.01): {}\\n\\t Ошибка (Истинная) {}\".\n",
        "     format(Improper_integral_SP_exclusion_mod(f,X0,X1,h = h,method = \"rect\"),\n",
        "            h.n(digits = 2),\n",
        "            abs(runge_rumbert_error_h(Improper_integral_SP_exclusion_mod(f,X0,X1,h = h,method = \"rect\"),Improper_integral_SP_exclusion_mod(f,X0,X1,h = h*0.01,method = \"rect\"),0.01,1)),\n",
        "            abs(Improper_integral_SP_exclusion_mod(f,X0,X1,h = h,method = \"rect\") - integral(f,x,X0,X1).n(digits = 50))))"
      ]
    },
    {
      "cell_type": "markdown",
      "metadata": {
        "id": "mImbjqfUd3QT"
      },
      "source": [
        "# Несобственные интегралы первого рода"
      ]
    },
    {
      "cell_type": "markdown",
      "metadata": {
        "id": "-xOhHx09d3QT"
      },
      "source": []
    },
    {
      "cell_type": "code",
      "execution_count": null,
      "metadata": {
        "id": "H61xYDuxd3QT"
      },
      "outputs": [],
      "source": [
        "def Improper_integral_1(f,X0,X1,h,\n",
        "                        method = \"rect\",\n",
        "                        trace = false,\n",
        "                        eps = 1e-5):\n",
        "\n",
        "    if( (X0 > 1/eps and X1 > 1/eps) or (X0 < 1/eps and X1 < 1/eps) ): #при данной погрешности выражение не имеет смысла\n",
        "        return false\n",
        "\n",
        "    a = var(\"a\")\n",
        "    if(X0 < -1/eps):#первый \\ предел в -бесконечности\n",
        "        if(trace):\n",
        "            print(\"searching for a\")\n",
        "\n",
        "        criteria = f(x = a)/a\n",
        "        step = h*10\n",
        "\n",
        "        if(X1 > 1/eps): #если и второй предел в бесконечности, то за базу берем ноль\n",
        "            a = 0\n",
        "        else:\n",
        "            a = X1\n",
        "\n",
        "        while(a > -1/eps):\n",
        "            if(trace):\n",
        "                print(\" a: {} | {}\".format(a,step))\n",
        "            try:\n",
        "                criteria(a = a)\n",
        "                if(trace):\n",
        "                    print(\" a: {} ({})  | {}\".format(a, criteria(a = a),step))\n",
        "                break\n",
        "            except(BaseException):\n",
        "                a -= step\n",
        "                step*=2\n",
        "\n",
        "        if(a <= -1/eps): #на данной сетке интеграл не существует\n",
        "            return false\n",
        "\n",
        "        while(abs(criteria(a = a)) > eps):\n",
        "            a -= step\n",
        "            step*=2\n",
        "\n",
        "            if(trace):\n",
        "                print(\" a: {} ({})  | {}\".format(a, criteria(a = a),step))\n",
        "\n",
        "            if(a <= -1/eps): #при данной погрешности интеграл не сходится\n",
        "                return false\n",
        "    else:\n",
        "        a = X0\n",
        "\n",
        "    b = var(\"b\")\n",
        "    if(X1 > 1/eps):#второй предел в бесконечности\n",
        "        if(trace):\n",
        "            print(\"searching for b\")\n",
        "\n",
        "        criteria = f(x = b)/b\n",
        "        step = h*10\n",
        "\n",
        "        b = a\n",
        "\n",
        "        while(b < 1/eps):\n",
        "            if(trace):\n",
        "                print(\" b: {} | {}\".format(b,step))\n",
        "\n",
        "            try:\n",
        "                criteria(b = b)\n",
        "                if(trace):\n",
        "                        print(\" b: {} ({}) | {}\".format(b,criteria(b = b),step))\n",
        "                break\n",
        "            except(BaseException):\n",
        "                b += step\n",
        "                step*=2\n",
        "\n",
        "        if(b >= 1/eps): #на данной сетке интеграл не существует\n",
        "            return false\n",
        "\n",
        "        while(abs(criteria(b = b)) > eps):\n",
        "            b += step\n",
        "            step*=2\n",
        "\n",
        "            if(trace):\n",
        "                print(\" b: {} ({}) | {}\".format(b,criteria(b = b),step))\n",
        "\n",
        "            if(b >= 1/eps): #при данной погрешности интеграл не сходится\n",
        "                return false\n",
        "    else:\n",
        "        b = X1\n",
        "\n",
        "    if(trace):\n",
        "        print(\"integrating from {} to {}\".format(a,b))\n",
        "        print(\"w step {}\".format(h*(b-a)/200))\n",
        "\n",
        "    return integrate(f,a,b,h*(b-a)/1000,method = method)\n",
        "\n"
      ]
    },
    {
      "cell_type": "code",
      "execution_count": null,
      "metadata": {
        "id": "xbuM51qid3QT",
        "outputId": "ce179cd4-d2da-4fa7-a4dc-3408b8f77b25"
      },
      "outputs": [
        {
          "name": "stdout",
          "output_type": "stream",
          "text": [
            "searching for b\n",
            " b: 0 | 0.100000000000000\n",
            " b: 0.100000000000000 | 0.200000000000000\n",
            " b: 0.100000000000000 (9.90049833749168) | 0.200000000000000\n",
            " b: 0.300000000000000 (3.04643728423743) | 0.400000000000000\n",
            " b: 0.700000000000000 (0.875180563120594) | 0.800000000000000\n",
            " b: 1.50000000000000 (0.0702661497079096) | 1.60000000000000\n",
            " b: 3.10000000000000 (0.0000216305884847777) | 3.20000000000000\n",
            " b: 6.30000000000000 (9.19414743713458e-19) | 6.40000000000000\n",
            " b: 12.7000000000000 (7.06056235564279e-72) | 12.8000000000000\n",
            "integrating from 0 to 12.7000000000000\n",
            "w step 0.000635000000000000\n"
          ]
        },
        {
          "data": {
            "text/plain": [
              "0.886226925452794"
            ]
          },
          "execution_count": 112,
          "metadata": {},
          "output_type": "execute_result"
        }
      ],
      "source": [
        "f = exp(-x**2)\n",
        "X0 = 0\n",
        "X1 = infinity\n",
        "\n",
        "Improper_integral_1(f,X0,X1,0.01,eps = 1e-20,trace = true)"
      ]
    },
    {
      "cell_type": "code",
      "execution_count": null,
      "metadata": {
        "id": "DqPry3Gxd3QT",
        "outputId": "6919d3d0-51c5-4007-ab79-80194ebb92e7"
      },
      "outputs": [
        {
          "data": {
            "image/png": "[encoded data removed]",
            "text/plain": [
              "Graphics object consisting of 1 graphics primitive"
            ]
          },
          "execution_count": 121,
          "metadata": {},
          "output_type": "execute_result"
        }
      ],
      "source": [
        "plot(f,xmin = 0, xmax = 5, legend_label = \"{}\".format(f(x)))"
      ]
    },
    {
      "cell_type": "code",
      "execution_count": null,
      "metadata": {
        "id": "9hrrgDZid3QT",
        "outputId": "1dd9ade0-4a5d-493a-cb34-7b8a48e37f17"
      },
      "outputs": [
        {
          "data": {
            "text/html": [
              "<html><script type=\"math/tex; mode=display\">\\newcommand{\\Bold}[1]{\\mathbf{#1}}0.886226925452758</script></html>"
            ],
            "text/latex": [
              "\\begin{math}\n",
              "\\newcommand{\\Bold}[1]{\\mathbf{#1}}0.886226925452758\n",
              "\\end{math}"
            ],
            "text/plain": [
              "0.886226925452758"
            ]
          },
          "metadata": {},
          "output_type": "display_data"
        }
      ],
      "source": [
        "show(integral(f,x,X0,X1).n())"
      ]
    },
    {
      "cell_type": "code",
      "execution_count": null,
      "metadata": {
        "id": "gSlBIqsnd3QT"
      },
      "outputs": [],
      "source": [
        "h = 0.01"
      ]
    },
    {
      "cell_type": "code",
      "execution_count": null,
      "metadata": {
        "id": "8Ojn8NQQd3QT",
        "outputId": "c7953b4c-8461-4441-f16a-937a41d50e04"
      },
      "outputs": [
        {
          "data": {
            "text/html": [
              "<html><script type=\"math/tex; mode=display\">\\newcommand{\\Bold}[1]{\\mathbf{#1}}e^{\\left(-x^{2}\\right)}</script></html>"
            ],
            "text/latex": [
              "\\begin{math}\n",
              "\\newcommand{\\Bold}[1]{\\mathbf{#1}}e^{\\left(-x^{2}\\right)}\n",
              "\\end{math}"
            ],
            "text/plain": [
              "e^(-x^2)"
            ]
          },
          "metadata": {},
          "output_type": "display_data"
        },
        {
          "data": {
            "text/html": [
              "<html><script type=\"math/tex; mode=display\">\\newcommand{\\Bold}[1]{\\mathbf{#1}}\\verb|Метод|\\phantom{\\verb!x!}\\verb|отсечения|\\phantom{\\verb!x!}\\verb|бесконечности|</script></html>"
            ],
            "text/latex": [
              "\\begin{math}\n",
              "\\newcommand{\\Bold}[1]{\\mathbf{#1}}\\verb|Метод|\\phantom{\\verb!x!}\\verb|отсечения|\\phantom{\\verb!x!}\\verb|бесконечности|\n",
              "\\end{math}"
            ],
            "text/plain": [
              "'Метод отсечения бесконечности'"
            ]
          },
          "metadata": {},
          "output_type": "display_data"
        },
        {
          "data": {
            "text/html": [
              "<html><script type=\"math/tex; mode=display\">\\newcommand{\\Bold}[1]{\\mathbf{#1}}\\begin{array}{l}\n",
              "\\verb|Результат:|\\phantom{\\verb!x!}\\verb|0.886216602099357|\\\\\n",
              "\\verb|\t|\\phantom{\\verb!x!}\\verb|Шаг|\\phantom{\\verb!x!}\\verb|интегрирования:|\\phantom{\\verb!x!}\\verb|0.010|\\\\\n",
              "\\verb\"\t\"\\phantom{\\verb!x!}\\verb\"Ошибка\"\\phantom{\\verb!x!}\\verb\"(Рунге\"\\phantom{\\verb!x!}\\verb\"Ромберг\"\\phantom{\\verb!x!}\\verb\"|\"\\phantom{\\verb!x!}\\verb\"0.1):\"\\phantom{\\verb!x!}\\verb\"0.0000103243858473657\"\\\\\n",
              "\\verb|\t|\\phantom{\\verb!x!}\\verb|Ошибка|\\phantom{\\verb!x!}\\verb|(Истинная)|\\phantom{\\verb!x!}\\verb|0.0000103233534008984|\n",
              "\\end{array}</script></html>"
            ],
            "text/latex": [
              "\\begin{math}\n",
              "\\newcommand{\\Bold}[1]{\\mathbf{#1}}\\begin{array}{l}\n",
              "\\verb|Результат:|\\phantom{\\verb!x!}\\verb|0.886216602099357|\\\\\n",
              "\\verb|\t|\\phantom{\\verb!x!}\\verb|Шаг|\\phantom{\\verb!x!}\\verb|интегрирования:|\\phantom{\\verb!x!}\\verb|0.010|\\\\\n",
              "\\verb\"\t\"\\phantom{\\verb!x!}\\verb\"Ошибка\"\\phantom{\\verb!x!}\\verb\"(Рунге\"\\phantom{\\verb!x!}\\verb\"Ромберг\"\\phantom{\\verb!x!}\\verb\"|\"\\phantom{\\verb!x!}\\verb\"0.1):\"\\phantom{\\verb!x!}\\verb\"0.0000103243858473657\"\\\\\n",
              "\\verb|\t|\\phantom{\\verb!x!}\\verb|Ошибка|\\phantom{\\verb!x!}\\verb|(Истинная)|\\phantom{\\verb!x!}\\verb|0.0000103233534008984|\n",
              "\\end{array}\n",
              "\\end{math}"
            ],
            "text/plain": [
              "'Результат: 0.886216602099357\\n\\t Шаг интегрирования: 0.010\\n\\t Ошибка (Рунге Ромберг | 0.1): 0.0000103243858473657\\n\\t Ошибка (Истинная) 0.0000103233534008984'"
            ]
          },
          "metadata": {},
          "output_type": "display_data"
        }
      ],
      "source": [
        "f = exp(-x**2)\n",
        "X0 = 0\n",
        "X1 = infinity\n",
        "h = 0.01\n",
        "e = 1e-4\n",
        "m = 1e-4\n",
        "show(f)\n",
        "\n",
        "show(\"Метод отсечения бесконечности\")\n",
        "show(\"Результат: {}\\n\\t Шаг интегрирования: {}\\n\\t Ошибка (Рунге Ромберг | 0.1): {}\\n\\t Ошибка (Истинная) {}\".\n",
        "     format(Improper_integral_1(f,X0,X1,h,eps = e),\n",
        "            h.n(digits = 2),\n",
        "            abs(runge_rumbert_error_h(Improper_integral_1(f,X0,X1,h,eps = e),Improper_integral_1(f,X0,X1,h,eps = e*m),m,1)),\n",
        "            abs(Improper_integral_1(f,X0,X1,h,eps = e) - integral(f,x,X0,X1).n(digits = 50))))"
      ]
    },
    {
      "cell_type": "markdown",
      "metadata": {
        "id": "YF4iF1fod3QU"
      },
      "source": [
        "Задача, которую пытались решить в начале"
      ]
    },
    {
      "cell_type": "code",
      "execution_count": null,
      "metadata": {
        "id": "geWP2VT-d3QU",
        "outputId": "75c8a941-5fec-4d3a-fc38-c5fa6a5c1280"
      },
      "outputs": [
        {
          "data": {
            "text/html": [
              "<html><script type=\"math/tex; mode=display\">\\newcommand{\\Bold}[1]{\\mathbf{#1}}0.785398163397448</script></html>"
            ],
            "text/latex": [
              "\\begin{math}\n",
              "\\newcommand{\\Bold}[1]{\\mathbf{#1}}0.785398163397448\n",
              "\\end{math}"
            ],
            "text/plain": [
              "0.785398163397448"
            ]
          },
          "metadata": {},
          "output_type": "display_data"
        }
      ],
      "source": [
        "f = 1/(x**2 + 1)\n",
        "show(integral(f,x,X0,X1).n())"
      ]
    },
    {
      "cell_type": "code",
      "execution_count": null,
      "metadata": {
        "id": "70H3y-cZd3QU",
        "outputId": "fba57ac8-9311-4291-ba21-1fbcc879805e"
      },
      "outputs": [
        {
          "data": {
            "text/html": [
              "<html><script type=\"math/tex; mode=display\">\\newcommand{\\Bold}[1]{\\mathbf{#1}}\\frac{1}{x^{2} + 1}</script></html>"
            ],
            "text/latex": [
              "\\begin{math}\n",
              "\\newcommand{\\Bold}[1]{\\mathbf{#1}}\\frac{1}{x^{2} + 1}\n",
              "\\end{math}"
            ],
            "text/plain": [
              "1/(x^2 + 1)"
            ]
          },
          "metadata": {},
          "output_type": "display_data"
        },
        {
          "name": "stdout",
          "output_type": "stream",
          "text": [
            "searching for b\n",
            " b: 1 | 0.100000000000000\n",
            " b: 1 (1/2) | 0.100000000000000\n",
            " b: 1.10000000000000 (0.411353352529823) | 0.200000000000000\n",
            " b: 1.30000000000000 (0.285959393766085) | 0.400000000000000\n",
            " b: 1.70000000000000 (0.151217299259035) | 0.800000000000000\n",
            " b: 2.50000000000000 (0.0551724137931034) | 1.60000000000000\n",
            " b: 4.10000000000000 (0.0136946905684666) | 3.20000000000000\n",
            " b: 7.30000000000000 (0.00252323266476078) | 6.40000000000000\n",
            " b: 13.7000000000000 (0.000386839264030564) | 12.8000000000000\n",
            " b: 26.5000000000000 (0.0000536592236851813) | 25.6000000000000\n",
            " b: 52.1000000000000 (7.06849351127493e-6) | 51.2000000000000\n",
            " b: 103.300000000000 (9.07106624071104e-7) | 102.400000000000\n",
            " b: 205.700000000000 (1.14891225273928e-7) | 204.800000000000\n",
            " b: 410.500000000000 (1.44563261691967e-8) | 409.600000000000\n",
            " b: 820.100000000000 (1.81300465252726e-9) | 819.200000000000\n",
            " b: 1639.30000000000 (2.26999301982858e-10) | 1638.40000000000\n",
            " b: 3277.70000000000 (2.83983008785592e-11) | 3276.80000000000\n",
            "integrating from 1 to 3277.70000000000\n",
            "w step 0.163835000000000\n"
          ]
        },
        {
          "data": {
            "text/plain": [
              "0.785070703166263"
            ]
          },
          "execution_count": 208,
          "metadata": {},
          "output_type": "execute_result"
        }
      ],
      "source": [
        "f = 1/(x**2 + 1)\n",
        "show(f)\n",
        "integral(f,x,1,infinity).n()\n",
        "\n",
        "Improper_integral_1(f,X0,X1,0.01,eps = 1e-10,trace = true)"
      ]
    },
    {
      "cell_type": "code",
      "execution_count": null,
      "metadata": {
        "id": "u7CSutnhd3QU"
      },
      "outputs": [],
      "source": [
        "f = 1/(1+x**2)\n",
        "X0 = 1\n",
        "X1 = infinity"
      ]
    },
    {
      "cell_type": "code",
      "execution_count": null,
      "metadata": {
        "id": "USjTTqvrd3QU",
        "outputId": "15406d52-f3d2-4799-bd2c-77c6faf4c9d5"
      },
      "outputs": [
        {
          "data": {
            "text/html": [
              "<html><script type=\"math/tex; mode=display\">\\newcommand{\\Bold}[1]{\\mathbf{#1}}\\frac{1}{x^{2} + 1}</script></html>"
            ],
            "text/latex": [
              "\\begin{math}\n",
              "\\newcommand{\\Bold}[1]{\\mathbf{#1}}\\frac{1}{x^{2} + 1}\n",
              "\\end{math}"
            ],
            "text/plain": [
              "1/(x^2 + 1)"
            ]
          },
          "metadata": {},
          "output_type": "display_data"
        },
        {
          "data": {
            "text/html": [
              "<html><script type=\"math/tex; mode=display\">\\newcommand{\\Bold}[1]{\\mathbf{#1}}\\verb|Метод|\\phantom{\\verb!x!}\\verb|отсечения|\\phantom{\\verb!x!}\\verb|бесконечности|</script></html>"
            ],
            "text/latex": [
              "\\begin{math}\n",
              "\\newcommand{\\Bold}[1]{\\mathbf{#1}}\\verb|Метод|\\phantom{\\verb!x!}\\verb|отсечения|\\phantom{\\verb!x!}\\verb|бесконечности|\n",
              "\\end{math}"
            ],
            "text/plain": [
              "'Метод отсечения бесконечности'"
            ]
          },
          "metadata": {},
          "output_type": "display_data"
        },
        {
          "data": {
            "text/html": [
              "<html><script type=\"math/tex; mode=display\">\\newcommand{\\Bold}[1]{\\mathbf{#1}}\\begin{array}{l}\n",
              "\\verb|Результат:|\\phantom{\\verb!x!}\\verb|0.785070703166263|\\\\\n",
              "\\verb|\t|\\phantom{\\verb!x!}\\verb|Шаг|\\phantom{\\verb!x!}\\verb|интегрирования:|\\phantom{\\verb!x!}\\verb|0.010|\\\\\n",
              "\\verb\"\t\"\\phantom{\\verb!x!}\\verb\"Ошибка\"\\phantom{\\verb!x!}\\verb\"(Рунге\"\\phantom{\\verb!x!}\\verb\"Ромберг\"\\phantom{\\verb!x!}\\verb\"|\"\\phantom{\\verb!x!}\\verb\"0.1):\"\\phantom{\\verb!x!}\\verb\"0.00540909369114177\"\\\\\n",
              "\\verb|\t|\\phantom{\\verb!x!}\\verb|Ошибка|\\phantom{\\verb!x!}\\verb|(Истинная)|\\phantom{\\verb!x!}\\verb|0.000327460231185572|\n",
              "\\end{array}</script></html>"
            ],
            "text/latex": [
              "\\begin{math}\n",
              "\\newcommand{\\Bold}[1]{\\mathbf{#1}}\\begin{array}{l}\n",
              "\\verb|Результат:|\\phantom{\\verb!x!}\\verb|0.785070703166263|\\\\\n",
              "\\verb|\t|\\phantom{\\verb!x!}\\verb|Шаг|\\phantom{\\verb!x!}\\verb|интегрирования:|\\phantom{\\verb!x!}\\verb|0.010|\\\\\n",
              "\\verb\"\t\"\\phantom{\\verb!x!}\\verb\"Ошибка\"\\phantom{\\verb!x!}\\verb\"(Рунге\"\\phantom{\\verb!x!}\\verb\"Ромберг\"\\phantom{\\verb!x!}\\verb\"|\"\\phantom{\\verb!x!}\\verb\"0.1):\"\\phantom{\\verb!x!}\\verb\"0.00540909369114177\"\\\\\n",
              "\\verb|\t|\\phantom{\\verb!x!}\\verb|Ошибка|\\phantom{\\verb!x!}\\verb|(Истинная)|\\phantom{\\verb!x!}\\verb|0.000327460231185572|\n",
              "\\end{array}\n",
              "\\end{math}"
            ],
            "text/plain": [
              "'Результат: 0.785070703166263\\n\\t Шаг интегрирования: 0.010\\n\\t Ошибка (Рунге Ромберг | 0.1): 0.00540909369114177\\n\\t Ошибка (Истинная) 0.000327460231185572'"
            ]
          },
          "metadata": {},
          "output_type": "display_data"
        }
      ],
      "source": [
        "f = 1/(1+x**2)\n",
        "X0 = 1\n",
        "X1 = infinity\n",
        "h = 0.01\n",
        "e = 1e-10\n",
        "m = 1e-4\n",
        "show(f)\n",
        "\n",
        "show(\"Метод отсечения бесконечности\")\n",
        "show(\"Результат: {}\\n\\t Шаг интегрирования: {}\\n\\t Ошибка (Рунге Ромберг | 0.1): {}\\n\\t Ошибка (Истинная) {}\".\n",
        "     format(Improper_integral_1(f,X0,X1,h,eps = e),\n",
        "            h.n(digits = 2),\n",
        "            abs(runge_rumbert_error_h(Improper_integral_1(f,X0,X1,h,eps = e),Improper_integral_1(f,X0,X1,h,eps = e*m),m,1)),\n",
        "            abs(Improper_integral_1(f,X0,X1,h,eps = e) - integral(f,x,X0,X1).n(digits = 50))))"
      ]
    },
    {
      "cell_type": "code",
      "execution_count": null,
      "metadata": {
        "id": "mXlBKNT1d3QU",
        "outputId": "fd1bfed0-d2f9-4eac-e0e5-7552ab671eb2"
      },
      "outputs": [
        {
          "data": {
            "text/html": [
              "<html><script type=\"math/tex; mode=display\">\\newcommand{\\Bold}[1]{\\mathbf{#1}}0.785398163397448</script></html>"
            ],
            "text/latex": [
              "\\begin{math}\n",
              "\\newcommand{\\Bold}[1]{\\mathbf{#1}}0.785398163397448\n",
              "\\end{math}"
            ],
            "text/plain": [
              "0.785398163397448"
            ]
          },
          "metadata": {},
          "output_type": "display_data"
        }
      ],
      "source": [
        "f = 1/(x**2 + 1)\n",
        "show(integral(f,x,X0,X1).n())"
      ]
    }
  ],
  "metadata": {
    "kernelspec": {
      "display_name": "SageMath 9.2",
      "language": "sage",
      "name": "sagemath"
    },
    "language_info": {
      "codemirror_mode": {
        "name": "ipython",
        "version": 3
      },
      "file_extension": ".py",
      "mimetype": "text/x-python",
      "name": "python",
      "nbconvert_exporter": "python",
      "pygments_lexer": "ipython3",
      "version": "3.7.7"
    },
    "colab": {
      "provenance": []
    }
  },
  "nbformat": 4,
  "nbformat_minor": 0
}