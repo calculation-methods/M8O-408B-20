{
 "cells": [
  {
   "cell_type": "code",
   "execution_count": 139,
   "outputs": [],
   "source": [
    "import numpy as np\n",
    "from numpy.linalg import norm\n",
    "from scipy.sparse import diags, csc_matrix\n",
    "from time import time"
   ],
   "metadata": {
    "collapsed": false,
    "ExecuteTime": {
     "end_time": "2024-01-28T19:15:16.087060Z",
     "start_time": "2024-01-28T19:15:16.078436Z"
    }
   },
   "id": "initial_id"
  },
  {
   "cell_type": "code",
   "execution_count": 140,
   "outputs": [],
   "source": [
    "def getMatrix(filename, isDiag):\n",
    "    with open(filename) as f:\n",
    "        shape = int(f.readline())\n",
    "        matrix = [[float(num) for num in line.split()]\n",
    "                  for _, line in zip(range(shape), f)]\n",
    "        if isDiag:\n",
    "            matrix[0].insert(0, 0)\n",
    "            matrix[-1].append(0)\n",
    "            a, b, c = zip(*matrix)\n",
    "            matrix = diags([a[1:], b, c[:-1]], [-1, 0, 1])\n",
    "            matrix = csc_matrix(matrix)\n",
    "        else:\n",
    "            matrix = csc_matrix(matrix)\n",
    "        b = np.array([float(num) for num in f.readline().split()])\n",
    "        return matrix, b"
   ],
   "metadata": {
    "collapsed": false,
    "ExecuteTime": {
     "end_time": "2024-01-28T19:15:16.422213Z",
     "start_time": "2024-01-28T19:15:16.416136Z"
    }
   },
   "id": "d47ceaff04f0db93"
  },
  {
   "cell_type": "code",
   "execution_count": 141,
   "outputs": [],
   "source": [
    "def biCGStabSolve(matrix, b, eps, shape, x0, k):    \n",
    "    r0 = b - matrix @ x0\n",
    "    x0 = x0\n",
    "    r2 = r0\n",
    "    rho0 = 1\n",
    "    alpha0 = 1\n",
    "    omega0 = 1\n",
    "    v0 = np.array([0] * shape)\n",
    "    p0 = np.array([0] * shape)\n",
    "    while True:\n",
    "        rho = r2 @ r0\n",
    "        beta = (rho * alpha0) / (rho0 * omega0)\n",
    "        p = r0 + beta * (p0 - omega0 * v0)\n",
    "        v = matrix @ p\n",
    "        alpha = rho / (r2 @ v)\n",
    "        s = r0 - alpha * v\n",
    "        t = matrix @ s\n",
    "        omega = (t @ s) / (t @ t)\n",
    "        x = x0 + omega * s + alpha * p\n",
    "        r = s - omega * t\n",
    "\n",
    "        k += 1\n",
    "        if norm(r) < eps:\n",
    "            break\n",
    "        r0 = r\n",
    "        rho0 = rho\n",
    "        alpha0 = alpha\n",
    "        omega0 = omega\n",
    "        v0 = v\n",
    "        p0 = p\n",
    "        x0 = x\n",
    "    return x"
   ],
   "metadata": {
    "collapsed": false,
    "ExecuteTime": {
     "end_time": "2024-01-28T19:15:16.806307Z",
     "start_time": "2024-01-28T19:15:16.801467Z"
    }
   },
   "id": "8d0bf967b4451437"
  },
  {
   "cell_type": "code",
   "execution_count": 142,
   "outputs": [],
   "source": [
    "def printSolution(matrix, b):\n",
    "    eps = 1e-5\n",
    "    shape = matrix.shape[0]\n",
    "    x0 = np.array([0] * shape)\n",
    "    k = 0\n",
    "    \n",
    "    start = time()\n",
    "    x = biCGStabSolve(matrix, b, eps, shape, x0, k)\n",
    "    end = time()\n",
    "    start2 = time()\n",
    "    x2 = np.linalg.solve(matrix.toarray(), b)\n",
    "    end2 = time()\n",
    "    print('My solve:\\n')\n",
    "    print(f'{x.round(5)}\\n')\n",
    "    print(f'EPS = {eps}\\n')\n",
    "    print(f'Shape = {shape}\\n')\n",
    "    print(f'Count of iterations = {k}\\n')\n",
    "    print(f'Mean = {np.mean(x)}\\n')\n",
    "    print(f'Time = {round(end - start, 5)} sec\\n')\n",
    "    print('\\nNumPy solve:\\n')\n",
    "    print(f'{x2.round(5)}\\n')\n",
    "    print(f'Mean = {np.mean(x2)}\\n')\n",
    "    print(f'Time = {round(end2 - start2, 5)} sec\\n')"
   ],
   "metadata": {
    "collapsed": false,
    "ExecuteTime": {
     "end_time": "2024-01-28T19:15:17.207357Z",
     "start_time": "2024-01-28T19:15:17.198249Z"
    }
   },
   "id": "5ffcf56377a206eb"
  },
  {
   "cell_type": "code",
   "execution_count": 143,
   "outputs": [
    {
     "name": "stdout",
     "output_type": "stream",
     "text": [
      "My solve:\n",
      "\n",
      "[-195.34591   26.53793  309.59768  -34.31888   47.3909  -126.5331\n",
      "  214.97703  -20.73636  249.00413 -260.32933]\n",
      "\n",
      "EPS = 1e-05\n",
      "\n",
      "Shape = 10\n",
      "\n",
      "Count of iterations = 0\n",
      "\n",
      "Mean = 21.024408467227477\n",
      "\n",
      "Time = 0.00067 sec\n",
      "\n",
      "\n",
      "NumPy solve:\n",
      "\n",
      "[-195.34591   26.53793  309.59768  -34.31888   47.3909  -126.5331\n",
      "  214.97703  -20.73636  249.00413 -260.32933]\n",
      "\n",
      "Mean = 21.024408466560754\n",
      "\n",
      "Time = 5e-05 sec\n"
     ]
    }
   ],
   "source": [
    "matrix, b = getMatrix('test10', False)\n",
    "printSolution(matrix, b)"
   ],
   "metadata": {
    "collapsed": false,
    "ExecuteTime": {
     "end_time": "2024-01-28T19:15:17.711168Z",
     "start_time": "2024-01-28T19:15:17.702806Z"
    }
   },
   "id": "99e00556918cbfee"
  },
  {
   "cell_type": "code",
   "execution_count": 144,
   "outputs": [
    {
     "name": "stdout",
     "output_type": "stream",
     "text": [
      "My solve:\n",
      "\n",
      "[-18.23957 -14.64113 -10.45047  33.47596  23.60765 -44.7088   45.67713\n",
      "   8.19735  33.83973   8.87599 -25.66239  -9.31423 -19.90542 -23.84705\n",
      "  34.99552  29.66388  22.22547 -12.89704  54.27331  46.53818]\n",
      "\n",
      "EPS = 1e-05\n",
      "\n",
      "Shape = 20\n",
      "\n",
      "Count of iterations = 0\n",
      "\n",
      "Mean = 8.08520327117203\n",
      "\n",
      "Time = 0.00474 sec\n",
      "\n",
      "\n",
      "NumPy solve:\n",
      "\n",
      "[-18.23957 -14.64113 -10.45047  33.47596  23.60765 -44.7088   45.67713\n",
      "   8.19735  33.83973   8.87599 -25.66239  -9.31423 -19.90542 -23.84705\n",
      "  34.99552  29.66388  22.22547 -12.89705  54.27331  46.53818]\n",
      "\n",
      "Mean = 8.085203088065231\n",
      "\n",
      "Time = 9e-05 sec\n"
     ]
    }
   ],
   "source": [
    "matrix, b = getMatrix('test20', False)\n",
    "printSolution(matrix, b)"
   ],
   "metadata": {
    "collapsed": false,
    "ExecuteTime": {
     "end_time": "2024-01-28T19:15:18.514603Z",
     "start_time": "2024-01-28T19:15:18.497380Z"
    }
   },
   "id": "dedd3c9e5e1116f1"
  },
  {
   "cell_type": "code",
   "execution_count": 145,
   "outputs": [
    {
     "name": "stdout",
     "output_type": "stream",
     "text": [
      "My solve:\n",
      "\n",
      "[ -53.64412  -35.47177 -118.89011  104.64771 -128.42506  249.20309\n",
      "   70.78105   57.49387 -158.63259  -76.66191    6.34065  311.24475\n",
      "   96.8618    29.04643  -64.97601  -95.87315   74.15824  234.61787\n",
      "   80.88134   72.80343  -74.44886   58.00882 -148.87989  -63.78908\n",
      "   99.56411 -122.365   -133.83062   86.21966  -89.91691   25.67745]\n",
      "\n",
      "EPS = 1e-05\n",
      "\n",
      "Shape = 30\n",
      "\n",
      "Count of iterations = 0\n",
      "\n",
      "Mean = 9.724839647431981\n",
      "\n",
      "Time = 0.01143 sec\n",
      "\n",
      "\n",
      "NumPy solve:\n",
      "\n",
      "[ -53.64412  -35.47177 -118.89009  104.64771 -128.42506  249.20307\n",
      "   70.78104   57.49385 -158.6326   -76.66189    6.34065  311.24474\n",
      "   96.8618    29.04643  -64.976    -95.87315   74.15823  234.61787\n",
      "   80.88134   72.80342  -74.44885   58.00882 -148.87987  -63.78908\n",
      "   99.56411 -122.36499 -133.83061   86.21965  -89.9169    25.67744]\n",
      "\n",
      "Mean = 9.724839707418928\n",
      "\n",
      "Time = 0.00016 sec\n"
     ]
    }
   ],
   "source": [
    "matrix, b = getMatrix('test30', False)\n",
    "printSolution(matrix, b)"
   ],
   "metadata": {
    "collapsed": false,
    "ExecuteTime": {
     "end_time": "2024-01-28T19:15:19.476659Z",
     "start_time": "2024-01-28T19:15:19.443537Z"
    }
   },
   "id": "826906a61489718e"
  }
 ],
 "metadata": {
  "kernelspec": {
   "display_name": "Python 3",
   "language": "python",
   "name": "python3"
  },
  "language_info": {
   "codemirror_mode": {
    "name": "ipython",
    "version": 2
   },
   "file_extension": ".py",
   "mimetype": "text/x-python",
   "name": "python",
   "nbconvert_exporter": "python",
   "pygments_lexer": "ipython2",
   "version": "2.7.6"
  }
 },
 "nbformat": 4,
 "nbformat_minor": 5
}
